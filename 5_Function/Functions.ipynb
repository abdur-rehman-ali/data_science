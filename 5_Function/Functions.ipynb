{
 "cells": [
  {
   "cell_type": "markdown",
   "id": "7d0d4230",
   "metadata": {},
   "source": [
    "<h1>Functions</h1>"
   ]
  },
  {
   "cell_type": "code",
   "execution_count": 2,
   "id": "97adb46c",
   "metadata": {},
   "outputs": [
    {
     "name": "stdout",
     "output_type": "stream",
     "text": [
      "Hello programmers\n",
      "Hello programmers\n"
     ]
    }
   ],
   "source": [
    "def welcome():\n",
    "    print(\"Hello programmers\")\n",
    "\n",
    "welcome()\n",
    "welcome()"
   ]
  },
  {
   "cell_type": "markdown",
   "id": "c718ff59",
   "metadata": {},
   "source": [
    "<h3>Function with arguments</h3>"
   ]
  },
  {
   "cell_type": "code",
   "execution_count": 6,
   "id": "58f79130",
   "metadata": {},
   "outputs": [
    {
     "name": "stdout",
     "output_type": "stream",
     "text": [
      "Hello Ali\n",
      "Hello joyia\n"
     ]
    }
   ],
   "source": [
    "def welcome_person(name):\n",
    "    return f\"Hello {name}\"\n",
    "\n",
    "print(welcome_person(\"Ali\"))\n",
    "print(welcome_person(\"joyia\"))\n"
   ]
  },
  {
   "cell_type": "markdown",
   "id": "cb7a1c43",
   "metadata": {},
   "source": [
    "<h3>Positional and keyword arguments</h3>"
   ]
  },
  {
   "cell_type": "code",
   "execution_count": 8,
   "id": "d80e9383",
   "metadata": {},
   "outputs": [
    {
     "name": "stdout",
     "output_type": "stream",
     "text": [
      "Hello my name is Ali and my age is 20\n"
     ]
    },
    {
     "ename": "TypeError",
     "evalue": "detail() missing 1 required positional argument: 'name'",
     "output_type": "error",
     "traceback": [
      "\u001b[1;31m---------------------------------------------------------------------------\u001b[0m",
      "\u001b[1;31mTypeError\u001b[0m                                 Traceback (most recent call last)",
      "\u001b[1;32m<ipython-input-8-800db4a72de4>\u001b[0m in \u001b[0;36m<module>\u001b[1;34m\u001b[0m\n\u001b[0;32m      5\u001b[0m \u001b[1;33m\u001b[0m\u001b[0m\n\u001b[0;32m      6\u001b[0m \u001b[0mprint\u001b[0m\u001b[1;33m(\u001b[0m\u001b[0mdetail\u001b[0m\u001b[1;33m(\u001b[0m\u001b[1;34m\"Ali\"\u001b[0m\u001b[1;33m)\u001b[0m\u001b[1;33m)\u001b[0m\u001b[1;33m\u001b[0m\u001b[1;33m\u001b[0m\u001b[0m\n\u001b[1;32m----> 7\u001b[1;33m \u001b[0mprint\u001b[0m\u001b[1;33m(\u001b[0m\u001b[0mdetail\u001b[0m\u001b[1;33m(\u001b[0m\u001b[1;33m)\u001b[0m\u001b[1;33m)\u001b[0m\u001b[1;33m\u001b[0m\u001b[1;33m\u001b[0m\u001b[0m\n\u001b[0m",
      "\u001b[1;31mTypeError\u001b[0m: detail() missing 1 required positional argument: 'name'"
     ]
    }
   ],
   "source": [
    "#Here age is keyword argument\n",
    "#name is positional argument\n",
    "def detail(name,age=20):\n",
    "    return f\"Hello my name is {name} and my age is {age}\"\n",
    "\n",
    "print(detail(\"Ali\"))\n",
    "print(detail())"
   ]
  },
  {
   "cell_type": "code",
   "execution_count": null,
   "id": "2bb90592",
   "metadata": {},
   "outputs": [],
   "source": []
  }
 ],
 "metadata": {
  "kernelspec": {
   "display_name": "Python 3",
   "language": "python",
   "name": "python3"
  },
  "language_info": {
   "codemirror_mode": {
    "name": "ipython",
    "version": 3
   },
   "file_extension": ".py",
   "mimetype": "text/x-python",
   "name": "python",
   "nbconvert_exporter": "python",
   "pygments_lexer": "ipython3",
   "version": "3.9.5"
  }
 },
 "nbformat": 4,
 "nbformat_minor": 5
}
