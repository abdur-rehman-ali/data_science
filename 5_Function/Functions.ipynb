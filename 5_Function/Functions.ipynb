{
 "cells": [
  {
   "cell_type": "markdown",
   "id": "7d0d4230",
   "metadata": {},
   "source": [
    "<h1>Functions</h1>"
   ]
  },
  {
   "cell_type": "code",
   "execution_count": 1,
   "id": "97adb46c",
   "metadata": {},
   "outputs": [
    {
     "name": "stdout",
     "output_type": "stream",
     "text": [
      "Hello programmers\n",
      "Hello programmers\n"
     ]
    }
   ],
   "source": [
    "def welcome():\n",
    "    print(\"Hello programmers\")\n",
    "\n",
    "welcome()\n",
    "welcome()"
   ]
  },
  {
   "cell_type": "markdown",
   "id": "c718ff59",
   "metadata": {},
   "source": [
    "<h3>Function with arguments</h3>"
   ]
  },
  {
   "cell_type": "code",
   "execution_count": 2,
   "id": "58f79130",
   "metadata": {},
   "outputs": [
    {
     "name": "stdout",
     "output_type": "stream",
     "text": [
      "Hello Ali\n",
      "Hello joyia\n"
     ]
    }
   ],
   "source": [
    "def welcome_person(name):\n",
    "    return f\"Hello {name}\"\n",
    "\n",
    "print(welcome_person(\"Ali\"))\n",
    "print(welcome_person(\"joyia\"))\n"
   ]
  },
  {
   "cell_type": "markdown",
   "id": "af23e647",
   "metadata": {},
   "source": [
    "<h3>Positional and keyword arguments</h3>"
   ]
  },
  {
   "cell_type": "code",
   "execution_count": 3,
   "id": "d80e9383",
   "metadata": {},
   "outputs": [
    {
     "name": "stdout",
     "output_type": "stream",
     "text": [
      "Hello my name is Ali and my age is 20\n"
     ]
    },
    {
     "ename": "TypeError",
     "evalue": "detail() missing 1 required positional argument: 'name'",
     "output_type": "error",
     "traceback": [
      "\u001b[1;31m---------------------------------------------------------------------------\u001b[0m",
      "\u001b[1;31mTypeError\u001b[0m                                 Traceback (most recent call last)",
      "\u001b[1;32m<ipython-input-3-800db4a72de4>\u001b[0m in \u001b[0;36m<module>\u001b[1;34m\u001b[0m\n\u001b[0;32m      5\u001b[0m \u001b[1;33m\u001b[0m\u001b[0m\n\u001b[0;32m      6\u001b[0m \u001b[0mprint\u001b[0m\u001b[1;33m(\u001b[0m\u001b[0mdetail\u001b[0m\u001b[1;33m(\u001b[0m\u001b[1;34m\"Ali\"\u001b[0m\u001b[1;33m)\u001b[0m\u001b[1;33m)\u001b[0m\u001b[1;33m\u001b[0m\u001b[1;33m\u001b[0m\u001b[0m\n\u001b[1;32m----> 7\u001b[1;33m \u001b[0mprint\u001b[0m\u001b[1;33m(\u001b[0m\u001b[0mdetail\u001b[0m\u001b[1;33m(\u001b[0m\u001b[1;33m)\u001b[0m\u001b[1;33m)\u001b[0m\u001b[1;33m\u001b[0m\u001b[1;33m\u001b[0m\u001b[0m\n\u001b[0m",
      "\u001b[1;31mTypeError\u001b[0m: detail() missing 1 required positional argument: 'name'"
     ]
    }
   ],
   "source": [
    "#Here age is keyword argument\n",
    "#name is positional argument\n",
    "def detail(name,age=20):\n",
    "    return f\"Hello my name is {name} and my age is {age}\"\n",
    "\n",
    "print(detail(\"Ali\"))\n",
    "print(detail())"
   ]
  },
  {
   "cell_type": "markdown",
   "id": "54572b19",
   "metadata": {},
   "source": [
    "<h3>Lambda function</h3>\n",
    "<ol>\n",
    "<li>Also called as annonymous function</li>\n",
    "<li>Function with no name</li>\n",
    "<li>If our function has only one expression then we can convert it into lambda function</li>\n",
    "<li>It runs faster then ordinary function</li>\n",
    "</ol>"
   ]
  },
  {
   "cell_type": "code",
   "execution_count": 5,
   "id": "d0ace8e3",
   "metadata": {},
   "outputs": [
    {
     "data": {
      "text/plain": [
       "11"
      ]
     },
     "execution_count": 5,
     "metadata": {},
     "output_type": "execute_result"
    }
   ],
   "source": [
    "def addition(a,b):\n",
    "    return a+b\n",
    "\n",
    "addition(6,5)"
   ]
  },
  {
   "cell_type": "code",
   "execution_count": 7,
   "id": "5db61e13",
   "metadata": {},
   "outputs": [
    {
     "data": {
      "text/plain": [
       "3"
      ]
     },
     "execution_count": 7,
     "metadata": {},
     "output_type": "execute_result"
    }
   ],
   "source": [
    "add = lambda a,b:a+b\n",
    "add(1,2)"
   ]
  },
  {
   "cell_type": "code",
   "execution_count": 8,
   "id": "fea6a5d1",
   "metadata": {},
   "outputs": [
    {
     "name": "stdout",
     "output_type": "stream",
     "text": [
      "12 is even\n",
      "21 is odd\n",
      "13 is odd\n"
     ]
    }
   ],
   "source": [
    "def even_odd(num):\n",
    "    if num%2==0:\n",
    "        return f\"{num} is even\"\n",
    "    else:\n",
    "        return f\"{num} is odd\"\n",
    "    \n",
    "print(even_odd(12))\n",
    "print(even_odd(21))\n",
    "print(even_odd(13))"
   ]
  },
  {
   "cell_type": "code",
   "execution_count": 9,
   "id": "10358b1e",
   "metadata": {},
   "outputs": [
    {
     "name": "stdout",
     "output_type": "stream",
     "text": [
      "True\n",
      "False\n",
      "False\n"
     ]
    }
   ],
   "source": [
    "even_odd=lambda num: num%2==0\n",
    "\n",
    "print(even_odd(12))\n",
    "print(even_odd(21))\n",
    "print(even_odd(13))"
   ]
  },
  {
   "cell_type": "markdown",
   "id": "adbfb157",
   "metadata": {},
   "source": [
    "<h3>Map function</h3>\n",
    "<p>Function is called for every element in iterable</p>"
   ]
  },
  {
   "cell_type": "code",
   "execution_count": 11,
   "id": "84b1d715",
   "metadata": {},
   "outputs": [
    {
     "name": "stdout",
     "output_type": "stream",
     "text": [
      "221 is odd\n",
      "22 is even\n",
      "222 is even\n"
     ]
    }
   ],
   "source": [
    "def even_odd(num):\n",
    "    if num%2==0:\n",
    "        return f\"{num} is even\"\n",
    "    else:\n",
    "        return f\"{num} is odd\"\n",
    "    \n",
    "print(even_odd(221))\n",
    "print(even_odd(22))\n",
    "print(even_odd(222))"
   ]
  },
  {
   "cell_type": "code",
   "execution_count": 12,
   "id": "0174f661",
   "metadata": {},
   "outputs": [
    {
     "name": "stdout",
     "output_type": "stream",
     "text": [
      "1 is odd\n",
      "2 is even\n",
      "3 is odd\n",
      "4 is even\n",
      "65 is odd\n",
      "76 is even\n",
      "87 is odd\n",
      "21 is odd\n"
     ]
    }
   ],
   "source": [
    "list_num = [1,2,3,4,65,76,87,21]\n",
    "\n",
    "for num in list_num:\n",
    "    print(even_odd(num))"
   ]
  },
  {
   "cell_type": "code",
   "execution_count": 13,
   "id": "913e08d0",
   "metadata": {},
   "outputs": [
    {
     "data": {
      "text/plain": [
       "<map at 0x276f2ed2790>"
      ]
     },
     "execution_count": 13,
     "metadata": {},
     "output_type": "execute_result"
    }
   ],
   "source": [
    "map(even_odd,list_num) #Lazy loading technique (means we will only get result when needed) (memory is not initialized yet)"
   ]
  },
  {
   "cell_type": "code",
   "execution_count": 14,
   "id": "96e0b127",
   "metadata": {},
   "outputs": [
    {
     "data": {
      "text/plain": [
       "['1 is odd',\n",
       " '2 is even',\n",
       " '3 is odd',\n",
       " '4 is even',\n",
       " '65 is odd',\n",
       " '76 is even',\n",
       " '87 is odd',\n",
       " '21 is odd']"
      ]
     },
     "execution_count": 14,
     "metadata": {},
     "output_type": "execute_result"
    }
   ],
   "source": [
    "list(map(even_odd,list_num))"
   ]
  },
  {
   "cell_type": "markdown",
   "id": "7c01700b",
   "metadata": {},
   "source": [
    "<h3>Filter function</h3>\n",
    "<p>Function is called for every element in iterable and only those elemnts are returned for which condition is True </p>"
   ]
  },
  {
   "cell_type": "code",
   "execution_count": 16,
   "id": "c3702317",
   "metadata": {},
   "outputs": [
    {
     "data": {
      "text/plain": [
       "[1, 2, 3, 4, 65, 76, 87, 21]"
      ]
     },
     "execution_count": 16,
     "metadata": {},
     "output_type": "execute_result"
    }
   ],
   "source": [
    "def even_odd(num):\n",
    "    if num%2==0:\n",
    "        return f\"{num} is even\"\n",
    "    else:\n",
    "        return f\"{num} is odd\"\n",
    "    \n",
    "list_num = [1,2,3,4,65,76,87,21]\n",
    "\n",
    "list(filter(even_odd,list_num))"
   ]
  },
  {
   "cell_type": "code",
   "execution_count": 17,
   "id": "82265f66",
   "metadata": {},
   "outputs": [
    {
     "data": {
      "text/plain": [
       "[2, 4, 76]"
      ]
     },
     "execution_count": 17,
     "metadata": {},
     "output_type": "execute_result"
    }
   ],
   "source": [
    "def even_odd(num):\n",
    "    if num%2==0:\n",
    "        return True\n",
    "    \n",
    "list_num = [1,2,3,4,65,76,87,21]\n",
    "\n",
    "list(filter(even_odd,list_num))"
   ]
  },
  {
   "cell_type": "code",
   "execution_count": 19,
   "id": "a966df2d",
   "metadata": {},
   "outputs": [
    {
     "data": {
      "text/plain": [
       "[2, 4, 76]"
      ]
     },
     "execution_count": 19,
     "metadata": {},
     "output_type": "execute_result"
    }
   ],
   "source": [
    "list_num = [1,2,3,4,65,76,87,21]\n",
    "list(filter(lambda num:num%2==0,list_num))"
   ]
  },
  {
   "cell_type": "code",
   "execution_count": 20,
   "id": "c0f1004b",
   "metadata": {},
   "outputs": [
    {
     "data": {
      "text/plain": [
       "[False, True, False, True, False, True, False, False]"
      ]
     },
     "execution_count": 20,
     "metadata": {},
     "output_type": "execute_result"
    }
   ],
   "source": [
    "list_num = [1,2,3,4,65,76,87,21]\n",
    "list(map(lambda num:num%2==0,list_num))"
   ]
  },
  {
   "cell_type": "markdown",
   "id": "1f5d4362",
   "metadata": {},
   "source": [
    "<h3>List comprehension</h3>\n",
    "<ol>\n",
    "    <li>It provides a concise way of creating a list </li>\n",
    "    <li>It consists square bracket followed by a expression and for clause , and one or more for loop or if clause</li>\n",
    "</ol>"
   ]
  },
  {
   "cell_type": "code",
   "execution_count": 11,
   "id": "62950b15",
   "metadata": {},
   "outputs": [],
   "source": [
    "list2=[]\n",
    "def list_square(lis):\n",
    "    for i in lis:\n",
    "        list2.append(i*i)\n",
    "    return list2\n",
    "    "
   ]
  },
  {
   "cell_type": "code",
   "execution_count": 12,
   "id": "254e06a0",
   "metadata": {},
   "outputs": [
    {
     "name": "stdout",
     "output_type": "stream",
     "text": [
      "[1, 4, 9, 16, 25]\n"
     ]
    }
   ],
   "source": [
    "print(list_square([1,2,3,4,5]))"
   ]
  },
  {
   "cell_type": "code",
   "execution_count": 13,
   "id": "1704d222",
   "metadata": {},
   "outputs": [
    {
     "data": {
      "text/plain": [
       "[1, 4, 9, 16, 25]"
      ]
     },
     "execution_count": 13,
     "metadata": {},
     "output_type": "execute_result"
    }
   ],
   "source": [
    "lis=[1,2,3,4,5]\n",
    "[i*i for i in lis]"
   ]
  },
  {
   "cell_type": "code",
   "execution_count": 14,
   "id": "44624120",
   "metadata": {},
   "outputs": [
    {
     "data": {
      "text/plain": [
       "[4, 16]"
      ]
     },
     "execution_count": 14,
     "metadata": {},
     "output_type": "execute_result"
    }
   ],
   "source": [
    "lis=[1,2,3,4,5]\n",
    "[i*i for i in lis if i%2==0] "
   ]
  },
  {
   "cell_type": "markdown",
   "id": "6360c6fa",
   "metadata": {},
   "source": [
    "<h3>iterables and iterators</h3>\n",
    "<ol>\n",
    "    <li>In case of iterables,all value get initialized in memory while in case of iterator value only get initialized when we use next function</li>\n",
    "</ol>"
   ]
  },
  {
   "cell_type": "code",
   "execution_count": 15,
   "id": "d562ff8d",
   "metadata": {},
   "outputs": [
    {
     "name": "stdout",
     "output_type": "stream",
     "text": [
      "1\n",
      "2\n",
      "3\n",
      "4\n",
      "5\n",
      "6\n",
      "7\n",
      "8\n"
     ]
    }
   ],
   "source": [
    "#Here all list values are initialized in memory\n",
    "list1=[1,2,3,4,5,6,7,8]\n",
    "for i in list1:\n",
    "    print(i)"
   ]
  },
  {
   "cell_type": "code",
   "execution_count": 26,
   "id": "96319b77",
   "metadata": {},
   "outputs": [],
   "source": [
    "\n",
    "list1=[1,2,3,4,5,6,7,8]\n",
    "list2=iter(list1)"
   ]
  },
  {
   "cell_type": "code",
   "execution_count": 29,
   "id": "3b361047",
   "metadata": {},
   "outputs": [
    {
     "name": "stdout",
     "output_type": "stream",
     "text": [
      "3\n"
     ]
    }
   ],
   "source": [
    "print(next(list2))"
   ]
  },
  {
   "cell_type": "code",
   "execution_count": 30,
   "id": "7faf33c5",
   "metadata": {},
   "outputs": [
    {
     "name": "stdout",
     "output_type": "stream",
     "text": [
      "4\n"
     ]
    }
   ],
   "source": [
    "print(next(list2))"
   ]
  },
  {
   "cell_type": "code",
   "execution_count": 31,
   "id": "86150055",
   "metadata": {},
   "outputs": [
    {
     "name": "stdout",
     "output_type": "stream",
     "text": [
      "5\n",
      "6\n",
      "7\n",
      "8\n"
     ]
    }
   ],
   "source": [
    "for i in list2:\n",
    "    print(i)"
   ]
  },
  {
   "cell_type": "code",
   "execution_count": null,
   "id": "c1b8ce1e",
   "metadata": {},
   "outputs": [],
   "source": []
  }
 ],
 "metadata": {
  "kernelspec": {
   "display_name": "Python 3",
   "language": "python",
   "name": "python3"
  },
  "language_info": {
   "codemirror_mode": {
    "name": "ipython",
    "version": 3
   },
   "file_extension": ".py",
   "mimetype": "text/x-python",
   "name": "python",
   "nbconvert_exporter": "python",
   "pygments_lexer": "ipython3",
   "version": "3.9.6"
  }
 },
 "nbformat": 4,
 "nbformat_minor": 5
}
