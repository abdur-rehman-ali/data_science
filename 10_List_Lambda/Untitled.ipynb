{
 "cells": [
  {
   "cell_type": "markdown",
   "id": "e25d4621",
   "metadata": {},
   "source": [
    "<h1>List compreshension</h1>"
   ]
  },
  {
   "cell_type": "markdown",
   "id": "9ac6a23c",
   "metadata": {},
   "source": [
    "<p>syntax=[expression for item in list]</p>"
   ]
  },
  {
   "cell_type": "code",
   "execution_count": 8,
   "id": "10e3afdc",
   "metadata": {},
   "outputs": [
    {
     "data": {
      "text/plain": [
       "[0, 1, 4, 9, 16, 25, 36, 49, 64, 81]"
      ]
     },
     "execution_count": 8,
     "metadata": {},
     "output_type": "execute_result"
    }
   ],
   "source": [
    "list_square=[]\n",
    "for i in range(10):\n",
    "    list_square.append(i**2)\n",
    "list_square"
   ]
  },
  {
   "cell_type": "code",
   "execution_count": 9,
   "id": "be61da55",
   "metadata": {},
   "outputs": [
    {
     "data": {
      "text/plain": [
       "[0, 1, 4, 9, 16, 25, 36, 49, 64, 81]"
      ]
     },
     "execution_count": 9,
     "metadata": {},
     "output_type": "execute_result"
    }
   ],
   "source": [
    "list_sq=[i**2 for i in range(10)]\n",
    "list_sq"
   ]
  },
  {
   "cell_type": "markdown",
   "id": "5a4509ba",
   "metadata": {},
   "source": [
    "<h3>Conditionals in List Comprehension</h3>\n"
   ]
  },
  {
   "cell_type": "code",
   "execution_count": 16,
   "id": "30c371dc",
   "metadata": {},
   "outputs": [
    {
     "data": {
      "text/plain": [
       "[0, 4, 16, 36, 64]"
      ]
     },
     "execution_count": 16,
     "metadata": {},
     "output_type": "execute_result"
    }
   ],
   "source": [
    "lit_even=[i**2 for i in range(10) if i%2==0]\n",
    "lit_even"
   ]
  },
  {
   "cell_type": "markdown",
   "id": "47a3c691",
   "metadata": {},
   "source": [
    "<h3>Nested IF with List Comprehension</h3>"
   ]
  },
  {
   "cell_type": "code",
   "execution_count": 18,
   "id": "d66a90a2",
   "metadata": {},
   "outputs": [
    {
     "data": {
      "text/plain": [
       "[0, 2, 4]"
      ]
     },
     "execution_count": 18,
     "metadata": {},
     "output_type": "execute_result"
    }
   ],
   "source": [
    "lit_even_less_5=[i for i in range(10) if i%2==0 if i<5]\n",
    "lit_even_less_5"
   ]
  },
  {
   "cell_type": "markdown",
   "id": "bd962b22",
   "metadata": {},
   "source": [
    "<h3>if...else With List Comprehension</h3>"
   ]
  },
  {
   "cell_type": "code",
   "execution_count": 21,
   "id": "6f47c8e8",
   "metadata": {},
   "outputs": [
    {
     "data": {
      "text/plain": [
       "['even', 'odd', 'even', 'odd', 'even', 'odd', 'even', 'odd', 'even', 'odd']"
      ]
     },
     "execution_count": 21,
     "metadata": {},
     "output_type": "execute_result"
    }
   ],
   "source": [
    "num=[\"even\" if i%2==0 else \"odd\" for i in range(10)]\n",
    "num"
   ]
  },
  {
   "cell_type": "code",
   "execution_count": 22,
   "id": "bfa09adb",
   "metadata": {},
   "outputs": [
    {
     "data": {
      "text/plain": [
       "[0, 1, 4, 3, 16, 5, 36, 7, 64, 9]"
      ]
     },
     "execution_count": 22,
     "metadata": {},
     "output_type": "execute_result"
    }
   ],
   "source": [
    "num=[i**2 if i%2==0 else i for i in range(10)]\n",
    "num"
   ]
  },
  {
   "cell_type": "markdown",
   "id": "b59a5406",
   "metadata": {},
   "source": [
    "<h3>Nested Loops in List Comprehension</h3>"
   ]
  },
  {
   "cell_type": "code",
   "execution_count": 64,
   "id": "bc8ddadd",
   "metadata": {},
   "outputs": [
    {
     "data": {
      "text/plain": [
       "[[1, 4, 4, 4], [2, 5, 5, 5], [3, 6, 6, 6], [4, 7, 7, 7]]"
      ]
     },
     "execution_count": 64,
     "metadata": {},
     "output_type": "execute_result"
    }
   ],
   "source": [
    "t_matrix=[]\n",
    "matrix=[[1,2,3,4],[4,5,6,7],[4,5,6,7],[4,5,6,7]]\n",
    "for i in range(len(matrix[0])):\n",
    "    t_row=[]\n",
    "    for row in matrix:\n",
    "        t_row.append(row[i])\n",
    "    t_matrix.append(t_row)\n",
    "t_matrix"
   ]
  },
  {
   "cell_type": "code",
   "execution_count": 69,
   "id": "c4762d49",
   "metadata": {},
   "outputs": [
    {
     "name": "stdout",
     "output_type": "stream",
     "text": [
      "[1, 2, 3, 4]\n",
      "[4, 5, 6, 7]\n",
      "[4, 5, 6, 7]\n",
      "[4, 5, 6, 7]\n"
     ]
    }
   ],
   "source": [
    "for row in matrix:\n",
    "        print(row)"
   ]
  },
  {
   "cell_type": "code",
   "execution_count": 70,
   "id": "0835d717",
   "metadata": {},
   "outputs": [
    {
     "name": "stdout",
     "output_type": "stream",
     "text": [
      "1\n",
      "4\n",
      "4\n",
      "4\n"
     ]
    }
   ],
   "source": [
    "for row in matrix:\n",
    "        print(row[0])"
   ]
  },
  {
   "cell_type": "code",
   "execution_count": 74,
   "id": "bd064cce",
   "metadata": {},
   "outputs": [
    {
     "data": {
      "text/plain": [
       "[[1, 4, 4, 4], [2, 5, 5, 5], [3, 6, 6, 6], [4, 7, 7, 7]]"
      ]
     },
     "execution_count": 74,
     "metadata": {},
     "output_type": "execute_result"
    }
   ],
   "source": [
    "t=[[row[i] for row in matrix] for i in range(len(matrix[0]))]\n",
    "t"
   ]
  },
  {
   "cell_type": "markdown",
   "id": "8838692c",
   "metadata": {},
   "source": [
    "<h3>Key Points to Remember</h3>\n",
    "<ol>\n",
    "<li>List comprehension is an elegant way to define and create lists based on existing lists</li>\n",
    "<li>List comprehension is generally more compact and faster than normal functions and loops for creating list</li>\n",
    "<li>However, we should avoid writing very long list comprehensions in one line to ensure that code is user-friendly</li>\n",
    "<li>Remember, every list comprehension can be rewritten in for loop, but every for loop can’t be rewritten in the form of list comprehension</li>\n",
    "</ol>"
   ]
  },
  {
   "cell_type": "markdown",
   "id": "284141c6",
   "metadata": {},
   "source": [
    "<h1>Lambda function</h1>"
   ]
  },
  {
   "cell_type": "markdown",
   "id": "88bd13ad",
   "metadata": {},
   "source": [
    "<h5>Syntax</h5>\n",
    "<p>lambda argument(s): expression</p>\n",
    "<p>A lambda function evaluates an expression for a given argument. You give the function a value (argument) and then provide the operation (expression). The keyword lambda must come first. A full colon (:) separates the argument and the expression.</p>"
   ]
  },
  {
   "cell_type": "code",
   "execution_count": 76,
   "id": "e3e7d082",
   "metadata": {},
   "outputs": [
    {
     "name": "stdout",
     "output_type": "stream",
     "text": [
      "25\n",
      "2704\n",
      "2601\n"
     ]
    }
   ],
   "source": [
    "def square(x):\n",
    "    return x**2\n",
    "\n",
    "print(square(5))\n",
    "print(square(52))\n",
    "print(square(51))"
   ]
  },
  {
   "cell_type": "code",
   "execution_count": 79,
   "id": "1b9e99d8",
   "metadata": {},
   "outputs": [
    {
     "name": "stdout",
     "output_type": "stream",
     "text": [
      "25\n",
      "2704\n",
      "2601\n"
     ]
    }
   ],
   "source": [
    "sq=lambda x:x**2\n",
    "print(sq(5))\n",
    "print(sq(52))\n",
    "print(sq(51))"
   ]
  },
  {
   "cell_type": "markdown",
   "id": "39abab4f",
   "metadata": {},
   "source": [
    "<h3>PROS</h3>\n",
    "<ol>\n",
    "<li>Good for simple logical operations that are easy to understand. This makes the code more readable too</li>\n",
    "<li>Good when you want a function that you will use just one time.</li>\n",
    "</ol>"
   ]
  },
  {
   "cell_type": "markdown",
   "id": "db5a4077",
   "metadata": {},
   "source": [
    "<h3>CONS</h3>\n",
    "<ol>\n",
    "<li>They can only perform one expression. It’s not possible to have multiple independent operations in one lambda function</li>\n",
    "<li>Bad for operations that would span more than one line in a normal def function (For example nested conditional operations). If you need a minute or two to understand the code, use a named function instead</li>\n",
    "<li>Bad because you can’t write a doc-string to explain all the inputs, operations, and outputs as you would in a normal def function</li>\n",
    "</ol>"
   ]
  },
  {
   "cell_type": "code",
   "execution_count": 82,
   "id": "3b59f88d",
   "metadata": {},
   "outputs": [
    {
     "data": {
      "text/plain": [
       "144"
      ]
     },
     "execution_count": 82,
     "metadata": {},
     "output_type": "execute_result"
    }
   ],
   "source": [
    "(lambda x:x**2) (12)"
   ]
  },
  {
   "cell_type": "markdown",
   "id": "57ad2062",
   "metadata": {},
   "source": [
    "<p>This is when you execute a lambda function on a single value.\n",
    "In the code above, the function was created and then immediately executed. This is an example of an immediately invoked function expression</p>"
   ]
  },
  {
   "cell_type": "code",
   "execution_count": null,
   "id": "97349ba0",
   "metadata": {},
   "outputs": [],
   "source": []
  }
 ],
 "metadata": {
  "kernelspec": {
   "display_name": "Python 3",
   "language": "python",
   "name": "python3"
  },
  "language_info": {
   "codemirror_mode": {
    "name": "ipython",
    "version": 3
   },
   "file_extension": ".py",
   "mimetype": "text/x-python",
   "name": "python",
   "nbconvert_exporter": "python",
   "pygments_lexer": "ipython3",
   "version": "3.8.8"
  }
 },
 "nbformat": 4,
 "nbformat_minor": 5
}
