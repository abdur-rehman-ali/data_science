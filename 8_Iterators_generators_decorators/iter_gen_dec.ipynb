{
 "cells": [
  {
   "cell_type": "markdown",
   "id": "c13fe7ad",
   "metadata": {},
   "source": [
    "<h1>Iterator generator and decorator</h1>"
   ]
  },
  {
   "cell_type": "code",
   "execution_count": 27,
   "id": "8524c63c",
   "metadata": {},
   "outputs": [
    {
     "name": "stdout",
     "output_type": "stream",
     "text": [
      "1\n",
      "2\n",
      "3\n",
      "4\n",
      "5\n"
     ]
    }
   ],
   "source": [
    "lis = [1,2,3,4,5]\n",
    "for i in lis:\n",
    "    print(i)"
   ]
  },
  {
   "cell_type": "code",
   "execution_count": 3,
   "id": "d2470174",
   "metadata": {},
   "outputs": [
    {
     "data": {
      "text/plain": [
       "list"
      ]
     },
     "execution_count": 3,
     "metadata": {},
     "output_type": "execute_result"
    }
   ],
   "source": [
    "type(lis)"
   ]
  },
  {
   "cell_type": "code",
   "execution_count": 7,
   "id": "9178cf5c",
   "metadata": {},
   "outputs": [],
   "source": [
    "lis_iter=iter(lis)"
   ]
  },
  {
   "cell_type": "code",
   "execution_count": 8,
   "id": "cca1b092",
   "metadata": {},
   "outputs": [
    {
     "data": {
      "text/plain": [
       "list_iterator"
      ]
     },
     "execution_count": 8,
     "metadata": {},
     "output_type": "execute_result"
    }
   ],
   "source": [
    "type(lis_iter)"
   ]
  },
  {
   "cell_type": "code",
   "execution_count": 12,
   "id": "0ecc584d",
   "metadata": {},
   "outputs": [
    {
     "ename": "StopIteration",
     "evalue": "",
     "output_type": "error",
     "traceback": [
      "\u001b[1;31m---------------------------------------------------------------------------\u001b[0m",
      "\u001b[1;31mStopIteration\u001b[0m                             Traceback (most recent call last)",
      "\u001b[1;32m<ipython-input-12-a9fd80ac9293>\u001b[0m in \u001b[0;36m<module>\u001b[1;34m\u001b[0m\n\u001b[1;32m----> 1\u001b[1;33m \u001b[0mnext\u001b[0m\u001b[1;33m(\u001b[0m\u001b[0mlis_iter\u001b[0m\u001b[1;33m)\u001b[0m\u001b[1;33m\u001b[0m\u001b[1;33m\u001b[0m\u001b[0m\n\u001b[0m",
      "\u001b[1;31mStopIteration\u001b[0m: "
     ]
    }
   ],
   "source": [
    "next(lis_iter)"
   ]
  },
  {
   "cell_type": "code",
   "execution_count": 11,
   "id": "0c4e8d64",
   "metadata": {},
   "outputs": [
    {
     "name": "stdout",
     "output_type": "stream",
     "text": [
      "3\n",
      "4\n",
      "5\n"
     ]
    }
   ],
   "source": [
    "for i in lis_iter:\n",
    "    print(i)"
   ]
  },
  {
   "cell_type": "code",
   "execution_count": 16,
   "id": "c4ec1bf6",
   "metadata": {},
   "outputs": [
    {
     "name": "stdout",
     "output_type": "stream",
     "text": [
      "Iteration stopp\n"
     ]
    }
   ],
   "source": [
    "try:\n",
    "    next(lis_iter)\n",
    "except StopIteration as si:\n",
    "    print(\"Iteration stopp\")\n",
    "    "
   ]
  },
  {
   "cell_type": "code",
   "execution_count": 15,
   "id": "3ed8ba3e",
   "metadata": {},
   "outputs": [
    {
     "ename": "StopIteration",
     "evalue": "",
     "output_type": "error",
     "traceback": [
      "\u001b[1;31m---------------------------------------------------------------------------\u001b[0m",
      "\u001b[1;31mStopIteration\u001b[0m                             Traceback (most recent call last)",
      "\u001b[1;32m<ipython-input-15-a9fd80ac9293>\u001b[0m in \u001b[0;36m<module>\u001b[1;34m\u001b[0m\n\u001b[1;32m----> 1\u001b[1;33m \u001b[0mnext\u001b[0m\u001b[1;33m(\u001b[0m\u001b[0mlis_iter\u001b[0m\u001b[1;33m)\u001b[0m\u001b[1;33m\u001b[0m\u001b[1;33m\u001b[0m\u001b[0m\n\u001b[0m",
      "\u001b[1;31mStopIteration\u001b[0m: "
     ]
    }
   ],
   "source": [
    "next(lis_iter)"
   ]
  },
  {
   "cell_type": "code",
   "execution_count": 17,
   "id": "ce070d8a",
   "metadata": {},
   "outputs": [
    {
     "data": {
      "text/plain": [
       "0"
      ]
     },
     "execution_count": 17,
     "metadata": {},
     "output_type": "execute_result"
    }
   ],
   "source": [
    "#GENERATORS\n",
    "def square(n):\n",
    "    for i in range(n):\n",
    "        return (i**2)\n",
    "\n",
    "square(3)"
   ]
  },
  {
   "cell_type": "code",
   "execution_count": 18,
   "id": "2d48ea68",
   "metadata": {},
   "outputs": [
    {
     "data": {
      "text/plain": [
       "<generator object square at 0x000002067BDB0580>"
      ]
     },
     "execution_count": 18,
     "metadata": {},
     "output_type": "execute_result"
    }
   ],
   "source": [
    "def square(n):\n",
    "    for i in range(n):\n",
    "        yield (i**2)\n",
    "\n",
    "square(3)"
   ]
  },
  {
   "cell_type": "code",
   "execution_count": 20,
   "id": "65c20189",
   "metadata": {},
   "outputs": [
    {
     "name": "stdout",
     "output_type": "stream",
     "text": [
      "0\n",
      "1\n",
      "4\n",
      "9\n",
      "16\n",
      "25\n",
      "36\n"
     ]
    }
   ],
   "source": [
    "for i in square(7):\n",
    "    print(i)"
   ]
  },
  {
   "cell_type": "code",
   "execution_count": 22,
   "id": "16cc36bc",
   "metadata": {},
   "outputs": [
    {
     "data": {
      "text/plain": [
       "<generator object square at 0x000002067B8C83C0>"
      ]
     },
     "execution_count": 22,
     "metadata": {},
     "output_type": "execute_result"
    }
   ],
   "source": [
    "a=square(3)\n",
    "a"
   ]
  },
  {
   "cell_type": "code",
   "execution_count": 23,
   "id": "be9da046",
   "metadata": {},
   "outputs": [
    {
     "data": {
      "text/plain": [
       "generator"
      ]
     },
     "execution_count": 23,
     "metadata": {},
     "output_type": "execute_result"
    }
   ],
   "source": [
    "type(a)"
   ]
  },
  {
   "cell_type": "code",
   "execution_count": 24,
   "id": "854413ef",
   "metadata": {},
   "outputs": [
    {
     "data": {
      "text/plain": [
       "0"
      ]
     },
     "execution_count": 24,
     "metadata": {},
     "output_type": "execute_result"
    }
   ],
   "source": [
    "next(a)"
   ]
  },
  {
   "cell_type": "code",
   "execution_count": 25,
   "id": "e00acfcc",
   "metadata": {},
   "outputs": [
    {
     "data": {
      "text/plain": [
       "1"
      ]
     },
     "execution_count": 25,
     "metadata": {},
     "output_type": "execute_result"
    }
   ],
   "source": [
    "next(a)"
   ]
  },
  {
   "cell_type": "markdown",
   "id": "59352f50",
   "metadata": {},
   "source": [
    "<h3>Difference between iterator and generator</h3>\n",
    "<ol>\n",
    "<li>To create iterator we use iter() and to generator we use function along with yield keyword</li>\n",
    "<li>Generator uses the yield keyword. It saves the local variable</li>\n",
    "<li>Generator in python helps us top write fast and compact code</li>\n",
    "<li>Python iterator is much more memory efficient</li>\n",
    "<li>In creating a python generator, we use a function. But in creating an iterator in python, we use the iter() and next() functions</li>\n",
    "<li>Python generator saves the states of the local variables every time ‘yield’ pauses the loop in python. An iterator does not make use of local variables, all it needs is iterable to iterate on</li>\n",
    "<li>A generator may have any number of ‘yield’ statements</li>\n",
    "<li>A python generator is an iterator</li>\n",
    "<li>Python iterator is an iterable</li>\n",
    "</ol>"
   ]
  },
  {
   "cell_type": "markdown",
   "id": "c3cbf95b",
   "metadata": {},
   "source": [
    "<h3>Decorators</h3>"
   ]
  },
  {
   "cell_type": "markdown",
   "id": "052cf9fb",
   "metadata": {},
   "source": [
    "<p>A decorator is a design pattern in Python that allows a user to add new functionality to an existing object without modifying its structure. Decorators are usually called before the definition of a function you want to decorate</p>"
   ]
  },
  {
   "cell_type": "code",
   "execution_count": 28,
   "id": "0fc34a43",
   "metadata": {},
   "outputs": [],
   "source": [
    "def welcome():\n",
    "    print(\"WELOCME\")"
   ]
  },
  {
   "cell_type": "code",
   "execution_count": 29,
   "id": "4676eded",
   "metadata": {},
   "outputs": [
    {
     "name": "stdout",
     "output_type": "stream",
     "text": [
      "WELOCME\n",
      "None\n"
     ]
    }
   ],
   "source": [
    "wel=welcome()\n",
    "print(wel)"
   ]
  },
  {
   "cell_type": "code",
   "execution_count": 30,
   "id": "50c73781",
   "metadata": {},
   "outputs": [
    {
     "name": "stdout",
     "output_type": "stream",
     "text": [
      "WELOCME\n"
     ]
    }
   ],
   "source": [
    "#copy function\n",
    "def welcome():\n",
    "    return (\"WELOCME\")\n",
    "wel=welcome()\n",
    "print(wel)"
   ]
  },
  {
   "cell_type": "code",
   "execution_count": 31,
   "id": "9f233dc0",
   "metadata": {},
   "outputs": [],
   "source": [
    "#closure\n",
    "def welcome():\n",
    "    msg=\"ali\"\n",
    "    print(\"Hello from main\")\n",
    "    def sub_welcome():\n",
    "        print(\"Hello from sub welcome\")\n",
    "        print(msg)"
   ]
  },
  {
   "cell_type": "code",
   "execution_count": 32,
   "id": "0c5d9105",
   "metadata": {},
   "outputs": [
    {
     "name": "stdout",
     "output_type": "stream",
     "text": [
      "Hello from main\n"
     ]
    }
   ],
   "source": [
    "welcome()"
   ]
  },
  {
   "cell_type": "code",
   "execution_count": 33,
   "id": "43a4c44d",
   "metadata": {},
   "outputs": [
    {
     "name": "stdout",
     "output_type": "stream",
     "text": [
      "Hello from main\n",
      "Hello from sub welcome\n",
      "ali\n"
     ]
    }
   ],
   "source": [
    "def welcome():\n",
    "    msg=\"ali\"\n",
    "    print(\"Hello from main\")\n",
    "    def sub_welcome():\n",
    "        print(\"Hello from sub welcome\")\n",
    "        print(msg)\n",
    "    return sub_welcome()\n",
    "\n",
    "welcome()"
   ]
  },
  {
   "cell_type": "code",
   "execution_count": 34,
   "id": "3c1d84f9",
   "metadata": {},
   "outputs": [
    {
     "name": "stdout",
     "output_type": "stream",
     "text": [
      "hELLO\n"
     ]
    }
   ],
   "source": [
    "#passing function as argument\n",
    "def fun(func):\n",
    "    func(\"hELLO\")\n",
    "\n",
    "fun(print)"
   ]
  },
  {
   "cell_type": "code",
   "execution_count": 37,
   "id": "288048fe",
   "metadata": {},
   "outputs": [],
   "source": [
    "def fun(func):\n",
    "    print(\"Hello from fun\")\n",
    "    func()\n",
    "\n",
    "def fun1():\n",
    "    print(\"Hello from fun1\")"
   ]
  },
  {
   "cell_type": "code",
   "execution_count": 38,
   "id": "82fac021",
   "metadata": {},
   "outputs": [
    {
     "name": "stdout",
     "output_type": "stream",
     "text": [
      "Hello from fun\n",
      "Hello from fun1\n"
     ]
    }
   ],
   "source": [
    "fun(fun1)"
   ]
  },
  {
   "cell_type": "code",
   "execution_count": 40,
   "id": "68260d05",
   "metadata": {},
   "outputs": [
    {
     "name": "stdout",
     "output_type": "stream",
     "text": [
      "Hello from fun\n",
      "Hello from fun1\n"
     ]
    }
   ],
   "source": [
    "#Decorators\n",
    "@fun\n",
    "def fun1():\n",
    "    print(\"Hello from fun1\")"
   ]
  },
  {
   "cell_type": "code",
   "execution_count": null,
   "id": "f6626edf",
   "metadata": {},
   "outputs": [],
   "source": []
  }
 ],
 "metadata": {
  "kernelspec": {
   "display_name": "Python 3",
   "language": "python",
   "name": "python3"
  },
  "language_info": {
   "codemirror_mode": {
    "name": "ipython",
    "version": 3
   },
   "file_extension": ".py",
   "mimetype": "text/x-python",
   "name": "python",
   "nbconvert_exporter": "python",
   "pygments_lexer": "ipython3",
   "version": "3.9.6"
  }
 },
 "nbformat": 4,
 "nbformat_minor": 5
}
