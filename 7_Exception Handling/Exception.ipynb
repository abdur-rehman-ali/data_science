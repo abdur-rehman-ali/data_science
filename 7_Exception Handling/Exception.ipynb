{
 "cells": [
  {
   "cell_type": "markdown",
   "id": "2033b1a0",
   "metadata": {},
   "source": [
    "<h1>Python Exception Handling</h1>"
   ]
  },
  {
   "cell_type": "markdown",
   "id": "886d0f59",
   "metadata": {},
   "source": [
    "<ol>\n",
    "<li>In Python, exceptions can be handled using a try statement.</li>\n",
    "<li>The critical operation which can raise an exception is placed inside the try clause</li>\n",
    "<li>The code that handles the exceptions is written in the except clause</li>\n",
    "</ol>"
   ]
  },
  {
   "cell_type": "markdown",
   "id": "d467404d",
   "metadata": {},
   "source": [
    "<h2>Difference between error and exception</h2>\n",
    "<p>Errors can't be handled whereas Exception can be handled during run time!</p>"
   ]
  },
  {
   "cell_type": "code",
   "execution_count": 1,
   "id": "4551c37c",
   "metadata": {
    "scrolled": true
   },
   "outputs": [
    {
     "ename": "TypeError",
     "evalue": "unsupported operand type(s) for +: 'int' and 'str'",
     "output_type": "error",
     "traceback": [
      "\u001b[1;31m---------------------------------------------------------------------------\u001b[0m",
      "\u001b[1;31mTypeError\u001b[0m                                 Traceback (most recent call last)",
      "\u001b[1;32m<ipython-input-1-9b96ead189f1>\u001b[0m in \u001b[0;36m<module>\u001b[1;34m\u001b[0m\n\u001b[0;32m      1\u001b[0m \u001b[0ma\u001b[0m\u001b[1;33m=\u001b[0m\u001b[1;36m1\u001b[0m\u001b[1;33m\u001b[0m\u001b[1;33m\u001b[0m\u001b[0m\n\u001b[0;32m      2\u001b[0m \u001b[0mb\u001b[0m\u001b[1;33m=\u001b[0m\u001b[1;34m\"s\"\u001b[0m\u001b[1;33m\u001b[0m\u001b[1;33m\u001b[0m\u001b[0m\n\u001b[1;32m----> 3\u001b[1;33m \u001b[0mc\u001b[0m\u001b[1;33m=\u001b[0m\u001b[0ma\u001b[0m\u001b[1;33m+\u001b[0m\u001b[0mb\u001b[0m\u001b[1;33m\u001b[0m\u001b[1;33m\u001b[0m\u001b[0m\n\u001b[0m",
      "\u001b[1;31mTypeError\u001b[0m: unsupported operand type(s) for +: 'int' and 'str'"
     ]
    }
   ],
   "source": [
    "a=1\n",
    "b=\"s\"\n",
    "c=a+b"
   ]
  },
  {
   "cell_type": "code",
   "execution_count": 11,
   "id": "969eed5a",
   "metadata": {},
   "outputs": [
    {
     "name": "stdout",
     "output_type": "stream",
     "text": [
      "Type Error : unsupported operand type(s) for +: 'int' and 'str'\n"
     ]
    }
   ],
   "source": [
    "try:\n",
    "    a=1\n",
    "    b=\"s\"\n",
    "    c=a+b\n",
    "except TypeError as te:\n",
    "    print(\"Type Error : \" + str(te))"
   ]
  },
  {
   "cell_type": "code",
   "execution_count": 9,
   "id": "d8239171",
   "metadata": {},
   "outputs": [
    {
     "name": "stdout",
     "output_type": "stream",
     "text": [
      "name 'y' is not defined\n"
     ]
    }
   ],
   "source": [
    "try:\n",
    "    x=y\n",
    "except Exception as ex :\n",
    "    print(ex)"
   ]
  },
  {
   "cell_type": "code",
   "execution_count": 12,
   "id": "57775b97",
   "metadata": {},
   "outputs": [
    {
     "name": "stdout",
     "output_type": "stream",
     "text": [
      "Variable name is not defined\n"
     ]
    }
   ],
   "source": [
    "try:\n",
    "    x=y\n",
    "except NameError as NE:\n",
    "    print(\"Variable name is not defined\")\n",
    "except Exception as ex : #If we want to specify more than one except block then Exception Block must be at last\n",
    "    print(ex)"
   ]
  },
  {
   "cell_type": "code",
   "execution_count": 14,
   "id": "1011d1e3",
   "metadata": {},
   "outputs": [
    {
     "name": "stdout",
     "output_type": "stream",
     "text": [
      "Type error\n"
     ]
    }
   ],
   "source": [
    "try:\n",
    "    x=12\n",
    "    y='a'\n",
    "    z=x+y\n",
    "except NameError as NE:\n",
    "    print(\"Variable name is not defined\")\n",
    "except TypeError as te:\n",
    "    print(\"Type error\")\n",
    "except Exception as ex :\n",
    "    print(\"Error\")"
   ]
  },
  {
   "cell_type": "code",
   "execution_count": 15,
   "id": "4b03ca17",
   "metadata": {},
   "outputs": [
    {
     "name": "stdout",
     "output_type": "stream",
     "text": [
      "Error\n"
     ]
    }
   ],
   "source": [
    "try:\n",
    "    x=12\n",
    "    y=0\n",
    "    z=x/y\n",
    "except NameError as NE:\n",
    "    print(\"Variable name is not defined\")\n",
    "except TypeError as te:\n",
    "    print(\"Type error\")\n",
    "except Exception as ex :\n",
    "    print(\"Error\")"
   ]
  },
  {
   "cell_type": "code",
   "execution_count": 16,
   "id": "c08f196e",
   "metadata": {},
   "outputs": [
    {
     "ename": "ZeroDivisionError",
     "evalue": "division by zero",
     "output_type": "error",
     "traceback": [
      "\u001b[1;31m---------------------------------------------------------------------------\u001b[0m",
      "\u001b[1;31mZeroDivisionError\u001b[0m                         Traceback (most recent call last)",
      "\u001b[1;32m<ipython-input-16-898e9759c56e>\u001b[0m in \u001b[0;36m<module>\u001b[1;34m\u001b[0m\n\u001b[1;32m----> 1\u001b[1;33m \u001b[1;36m12\u001b[0m\u001b[1;33m/\u001b[0m\u001b[1;36m0\u001b[0m\u001b[1;33m\u001b[0m\u001b[1;33m\u001b[0m\u001b[0m\n\u001b[0m",
      "\u001b[1;31mZeroDivisionError\u001b[0m: division by zero"
     ]
    }
   ],
   "source": [
    "12/0"
   ]
  },
  {
   "cell_type": "code",
   "execution_count": 17,
   "id": "1290c1b1",
   "metadata": {},
   "outputs": [
    {
     "name": "stdout",
     "output_type": "stream",
     "text": [
      "Divison by zero\n"
     ]
    }
   ],
   "source": [
    "try:\n",
    "    x=12\n",
    "    y=0\n",
    "    z=x/y\n",
    "except NameError as NE:\n",
    "    print(\"Variable name is not defined\")\n",
    "except TypeError as te:\n",
    "    print(\"Type error\")\n",
    "except ZeroDivisionError as ZDE:\n",
    "    print(\"Divison by zero\")\n",
    "except Exception as ex :\n",
    "    print(\"Error\")"
   ]
  },
  {
   "cell_type": "markdown",
   "id": "9e259325",
   "metadata": {},
   "source": [
    "<h3>try-else</h3>\n",
    "<li>Else block get executed if try block get executed</li>\n",
    "<li>If there is a exception then else will not get executed</li>"
   ]
  },
  {
   "cell_type": "code",
   "execution_count": 21,
   "id": "14602d25",
   "metadata": {},
   "outputs": [
    {
     "name": "stdout",
     "output_type": "stream",
     "text": [
      "6.0\n"
     ]
    }
   ],
   "source": [
    "try:\n",
    "    x=12\n",
    "    y=2\n",
    "    z=x/y\n",
    "except NameError as NE:\n",
    "    print(\"Variable name is not defined\")\n",
    "except TypeError as te:\n",
    "    print(\"Type error\")\n",
    "except ZeroDivisionError as ZDE:\n",
    "    print(\"Divison by zero\")\n",
    "except Exception as ex :\n",
    "    print(\"Error\")\n",
    "else:\n",
    "    print(z)"
   ]
  },
  {
   "cell_type": "code",
   "execution_count": 22,
   "id": "b4526ae4",
   "metadata": {},
   "outputs": [
    {
     "name": "stdout",
     "output_type": "stream",
     "text": [
      "Divison by zero\n"
     ]
    }
   ],
   "source": [
    "try:\n",
    "    x=12\n",
    "    y=0\n",
    "    z=x/y\n",
    "except NameError as NE:\n",
    "    print(\"Variable name is not defined\")\n",
    "except TypeError as te:\n",
    "    print(\"Type error\")\n",
    "except ZeroDivisionError as ZDE:\n",
    "    print(\"Divison by zero\")\n",
    "except Exception as ex :\n",
    "    print(\"Error\")\n",
    "else:\n",
    "    print(z)"
   ]
  },
  {
   "cell_type": "markdown",
   "id": "bcd99661",
   "metadata": {},
   "source": [
    "<h3>try-else-finally</h3>"
   ]
  },
  {
   "cell_type": "code",
   "execution_count": 24,
   "id": "5314ed9e",
   "metadata": {},
   "outputs": [
    {
     "name": "stdout",
     "output_type": "stream",
     "text": [
      "6.0\n",
      "Finally get executed\n"
     ]
    }
   ],
   "source": [
    "try:\n",
    "    x=12\n",
    "    y=2\n",
    "    z=x/y\n",
    "except NameError as NE:\n",
    "    print(\"Variable name is not defined\")\n",
    "except TypeError as te:\n",
    "    print(\"Type error\")\n",
    "except ZeroDivisionError as ZDE:\n",
    "    print(\"Divison by zero\")\n",
    "except Exception as ex :\n",
    "    print(\"Error\")\n",
    "else:\n",
    "    print(z)\n",
    "finally:\n",
    "    print(\"Finally get executed\")"
   ]
  },
  {
   "cell_type": "markdown",
   "id": "2ea4d59a",
   "metadata": {},
   "source": [
    "<h2>Custom exception</h2>"
   ]
  },
  {
   "cell_type": "code",
   "execution_count": 25,
   "id": "45efe7d7",
   "metadata": {},
   "outputs": [],
   "source": [
    "\n",
    "class Error(Exception):\n",
    "    pass\n",
    "\n",
    "class dobException(Error):\n",
    "    pass\n",
    "\n",
    "class customgeneric(Error):\n",
    "    pass"
   ]
  },
  {
   "cell_type": "code",
   "execution_count": 26,
   "id": "d1a190b0",
   "metadata": {},
   "outputs": [
    {
     "name": "stdout",
     "output_type": "stream",
     "text": [
      "Enter the year of Birth 23\n",
      "The age is not within the range. You cannot apply for the exams\n"
     ]
    }
   ],
   "source": [
    "\n",
    "year=int(input(\"Enter the year of Birth \"))\n",
    "age=2021-year\n",
    "try:\n",
    "    if age<=30 & age>20:\n",
    "        print(\"The age is valid. You can apply for the exams\")\n",
    "    else:\n",
    "        raise dobException\n",
    "except dobException:\n",
    "    print(\"The age is not within the range. You cannot apply for the exams\")"
   ]
  },
  {
   "cell_type": "markdown",
   "id": "9c8f6e0f",
   "metadata": {},
   "source": [
    "<h3>python assert</h3>"
   ]
  },
  {
   "cell_type": "markdown",
   "id": "4029354d",
   "metadata": {},
   "source": [
    "<ol>\n",
    "<li>Python provides the assert statement to check if a given logical expression is true or false.</li>\n",
    " <li>Program execution proceeds only if the expression is true </li>\n",
    "    <li>raises the AssertionError when it is false</li>\n",
    "</ol>"
   ]
  },
  {
   "cell_type": "code",
   "execution_count": 29,
   "id": "f754fa28",
   "metadata": {},
   "outputs": [
    {
     "ename": "AssertionError",
     "evalue": "",
     "output_type": "error",
     "traceback": [
      "\u001b[1;31m---------------------------------------------------------------------------\u001b[0m",
      "\u001b[1;31mAssertionError\u001b[0m                            Traceback (most recent call last)",
      "\u001b[1;32m<ipython-input-29-10950bfa5c48>\u001b[0m in \u001b[0;36m<module>\u001b[1;34m\u001b[0m\n\u001b[0;32m      1\u001b[0m \u001b[0mnum\u001b[0m\u001b[1;33m=\u001b[0m\u001b[1;36m10\u001b[0m\u001b[1;33m\u001b[0m\u001b[1;33m\u001b[0m\u001b[0m\n\u001b[1;32m----> 2\u001b[1;33m \u001b[1;32massert\u001b[0m \u001b[0mnum\u001b[0m\u001b[1;33m>\u001b[0m\u001b[1;36m11\u001b[0m\u001b[1;33m\u001b[0m\u001b[1;33m\u001b[0m\u001b[0m\n\u001b[0m",
      "\u001b[1;31mAssertionError\u001b[0m: "
     ]
    }
   ],
   "source": [
    "num=10\n",
    "assert num>11"
   ]
  },
  {
   "cell_type": "code",
   "execution_count": 30,
   "id": "99fdc42f",
   "metadata": {},
   "outputs": [
    {
     "name": "stdout",
     "output_type": "stream",
     "text": [
      "Number is not greater than 10\n"
     ]
    }
   ],
   "source": [
    "try:\n",
    "    num=9\n",
    "    assert num>10\n",
    "    print(\"Number is greater than 10\")\n",
    "except AssertionError:\n",
    "    print(\"Number is not greater than 10\")"
   ]
  },
  {
   "cell_type": "code",
   "execution_count": null,
   "id": "8d1c3479",
   "metadata": {},
   "outputs": [],
   "source": []
  }
 ],
 "metadata": {
  "kernelspec": {
   "display_name": "Python 3",
   "language": "python",
   "name": "python3"
  },
  "language_info": {
   "codemirror_mode": {
    "name": "ipython",
    "version": 3
   },
   "file_extension": ".py",
   "mimetype": "text/x-python",
   "name": "python",
   "nbconvert_exporter": "python",
   "pygments_lexer": "ipython3",
   "version": "3.9.6"
  }
 },
 "nbformat": 4,
 "nbformat_minor": 5
}
