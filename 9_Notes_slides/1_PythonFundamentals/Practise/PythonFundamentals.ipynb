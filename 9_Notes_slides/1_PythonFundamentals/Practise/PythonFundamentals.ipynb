{
 "cells": [
  {
   "cell_type": "markdown",
   "id": "b7398ca2",
   "metadata": {},
   "source": [
    "<h1>Chapter 2</h1>"
   ]
  },
  {
   "cell_type": "code",
   "execution_count": 1,
   "id": "c72d24ff",
   "metadata": {},
   "outputs": [
    {
     "name": "stdout",
     "output_type": "stream",
     "text": [
      "[1, 6, 3, 4, 5]\n",
      "[1, 6, 3, 4, 5]\n"
     ]
    }
   ],
   "source": [
    "num=[1,2,3,4,5]\n",
    "x=num\n",
    "x[1]=6\n",
    "print(num)\n",
    "print(x)"
   ]
  },
  {
   "cell_type": "code",
   "execution_count": 4,
   "id": "6a412c98",
   "metadata": {},
   "outputs": [
    {
     "name": "stdout",
     "output_type": "stream",
     "text": [
      "[[1, 2, 3, 4, 5], [1, 2, 3, 4, 5], [1, 2, 3, 4, 5], [1, 2, 3, 4, 5]]\n"
     ]
    }
   ],
   "source": [
    "num=[[1,2,3,4,5],[1,2,3,4,5],[1,2,3,4,5],[1,2,3,4,5]]\n",
    "print(num)"
   ]
  },
  {
   "cell_type": "code",
   "execution_count": 19,
   "id": "432511ff",
   "metadata": {},
   "outputs": [
    {
     "name": "stdout",
     "output_type": "stream",
     "text": [
      "[3, 4, 5]\n"
     ]
    }
   ],
   "source": [
    "print(num[0][2:])"
   ]
  },
  {
   "cell_type": "markdown",
   "id": "99723840",
   "metadata": {},
   "source": [
    "<h1>Chapter 3 : Functions</h1>"
   ]
  },
  {
   "cell_type": "code",
   "execution_count": 24,
   "id": "ecf7891b",
   "metadata": {},
   "outputs": [
    {
     "data": {
      "text/plain": [
       "1.89"
      ]
     },
     "execution_count": 24,
     "metadata": {},
     "output_type": "execute_result"
    }
   ],
   "source": [
    "fam = [1.73, 1.68, 1.71, 1.89]\n",
    "max(fam)"
   ]
  },
  {
   "cell_type": "code",
   "execution_count": 25,
   "id": "2b403b1a",
   "metadata": {},
   "outputs": [
    {
     "data": {
      "text/plain": [
       "12.32"
      ]
     },
     "execution_count": 25,
     "metadata": {},
     "output_type": "execute_result"
    }
   ],
   "source": [
    "round(12.3243,2)"
   ]
  },
  {
   "cell_type": "code",
   "execution_count": 27,
   "id": "ba3fe4f9",
   "metadata": {},
   "outputs": [
    {
     "data": {
      "text/plain": [
       "12.325"
      ]
     },
     "execution_count": 27,
     "metadata": {},
     "output_type": "execute_result"
    }
   ],
   "source": [
    "round(12.3248,3)"
   ]
  },
  {
   "cell_type": "code",
   "execution_count": 28,
   "id": "0e6a12e7",
   "metadata": {},
   "outputs": [
    {
     "name": "stdout",
     "output_type": "stream",
     "text": [
      "Help on built-in function round in module builtins:\n",
      "\n",
      "round(number, ndigits=None)\n",
      "    Round a number to a given precision in decimal digits.\n",
      "    \n",
      "    The return value is an integer if ndigits is omitted or None.  Otherwise\n",
      "    the return value has the same type as the number.  ndigits may be negative.\n",
      "\n"
     ]
    }
   ],
   "source": [
    "help(round)"
   ]
  },
  {
   "cell_type": "code",
   "execution_count": 29,
   "id": "aad87177",
   "metadata": {},
   "outputs": [
    {
     "data": {
      "text/plain": [
       "4"
      ]
     },
     "execution_count": 29,
     "metadata": {},
     "output_type": "execute_result"
    }
   ],
   "source": [
    "fam = [1, 1, 1, 1,2,2,3,4,54,65]\n",
    "fam.count(1)"
   ]
  },
  {
   "cell_type": "code",
   "execution_count": 30,
   "id": "839de8e5",
   "metadata": {},
   "outputs": [
    {
     "data": {
      "text/plain": [
       "4"
      ]
     },
     "execution_count": 30,
     "metadata": {},
     "output_type": "execute_result"
    }
   ],
   "source": [
    "fam.index(2)"
   ]
  },
  {
   "cell_type": "markdown",
   "id": "6db835ce",
   "metadata": {},
   "source": [
    "<h1>Chapter 4 : Numpy </h1>"
   ]
  },
  {
   "cell_type": "code",
   "execution_count": 32,
   "id": "63f5f94b",
   "metadata": {},
   "outputs": [
    {
     "ename": "TypeError",
     "evalue": "unsupported operand type(s) for /: 'list' and 'list'",
     "output_type": "error",
     "traceback": [
      "\u001b[1;31m---------------------------------------------------------------------------\u001b[0m",
      "\u001b[1;31mTypeError\u001b[0m                                 Traceback (most recent call last)",
      "\u001b[1;32m<ipython-input-32-0a6fd8dd8e68>\u001b[0m in \u001b[0;36m<module>\u001b[1;34m\u001b[0m\n\u001b[0;32m      1\u001b[0m \u001b[0marr1\u001b[0m \u001b[1;33m=\u001b[0m \u001b[1;33m[\u001b[0m\u001b[1;36m1\u001b[0m\u001b[1;33m,\u001b[0m\u001b[1;36m2\u001b[0m\u001b[1;33m,\u001b[0m\u001b[1;36m3\u001b[0m\u001b[1;33m,\u001b[0m\u001b[1;36m4\u001b[0m\u001b[1;33m,\u001b[0m\u001b[1;36m5\u001b[0m\u001b[1;33m]\u001b[0m\u001b[1;33m\u001b[0m\u001b[1;33m\u001b[0m\u001b[0m\n\u001b[0;32m      2\u001b[0m \u001b[0marr2\u001b[0m \u001b[1;33m=\u001b[0m \u001b[1;33m[\u001b[0m\u001b[1;36m4\u001b[0m\u001b[1;33m,\u001b[0m\u001b[1;36m5\u001b[0m\u001b[1;33m,\u001b[0m\u001b[1;36m6\u001b[0m\u001b[1;33m,\u001b[0m\u001b[1;36m7\u001b[0m\u001b[1;33m,\u001b[0m\u001b[1;36m8\u001b[0m\u001b[1;33m]\u001b[0m\u001b[1;33m\u001b[0m\u001b[1;33m\u001b[0m\u001b[0m\n\u001b[1;32m----> 3\u001b[1;33m \u001b[0marr1\u001b[0m\u001b[1;33m/\u001b[0m\u001b[0marr2\u001b[0m\u001b[1;33m\u001b[0m\u001b[1;33m\u001b[0m\u001b[0m\n\u001b[0m",
      "\u001b[1;31mTypeError\u001b[0m: unsupported operand type(s) for /: 'list' and 'list'"
     ]
    }
   ],
   "source": [
    "arr1 = [1,2,3,4,5]\n",
    "arr2 = [4,5,6,7,8]\n",
    "arr1/arr2"
   ]
  },
  {
   "cell_type": "code",
   "execution_count": 33,
   "id": "121b83c2",
   "metadata": {},
   "outputs": [
    {
     "name": "stdout",
     "output_type": "stream",
     "text": [
      "[ 5  7  9 11 13]\n"
     ]
    }
   ],
   "source": [
    "import numpy as np\n",
    "arr1=np.array(arr1)\n",
    "arr2=np.array(arr2)\n",
    "print(arr1+arr2)"
   ]
  },
  {
   "cell_type": "code",
   "execution_count": 34,
   "id": "5a7c89d8",
   "metadata": {},
   "outputs": [
    {
     "name": "stdout",
     "output_type": "stream",
     "text": [
      "['10' '12.54' 'ali' 'True']\n"
     ]
    }
   ],
   "source": [
    "print(np.array([10,12.54,'ali',True]))"
   ]
  },
  {
   "cell_type": "code",
   "execution_count": 37,
   "id": "6e48a56a",
   "metadata": {},
   "outputs": [
    {
     "name": "stdout",
     "output_type": "stream",
     "text": [
      "0\n",
      "1\n",
      "2\n",
      "3\n",
      "4\n",
      "1\n",
      "12\n",
      "12\n"
     ]
    }
   ],
   "source": [
    "age = [0,1,2,3,4,54,1,12,32,53,56,76,18,19,12,21,43,54,67]\n",
    "for i in age:\n",
    "    if i<18:\n",
    "        print(i)"
   ]
  },
  {
   "cell_type": "code",
   "execution_count": 39,
   "id": "7711263c",
   "metadata": {},
   "outputs": [
    {
     "name": "stdout",
     "output_type": "stream",
     "text": [
      "[ True  True  True  True  True False  True  True False False False False\n",
      " False False  True False False False False]\n",
      "[ 0  1  2  3  4  1 12 12]\n"
     ]
    }
   ],
   "source": [
    "age = [0,1,2,3,4,54,1,12,32,53,56,76,18,19,12,21,43,54,67]\n",
    "age = np.array(age)\n",
    "print(age<18)\n",
    "print(age[age<18])"
   ]
  },
  {
   "cell_type": "code",
   "execution_count": 40,
   "id": "a7633861",
   "metadata": {},
   "outputs": [
    {
     "name": "stdout",
     "output_type": "stream",
     "text": [
      "<class 'numpy.ndarray'>\n"
     ]
    }
   ],
   "source": [
    "age_2d=[\n",
    "    [0,1,2,3,4,54,1,12,32,53,56,76,18,19,12,21,43,54,67],\n",
    "    [0,1,2,3,4,54,1,12,32,53,56,76,18,19,12,21,43,54,67],\n",
    "    [0,1,2,3,4,54,1,12,32,53,56,76,18,19,12,21,43,54,67]\n",
    "]\n",
    "\n",
    "age_2d=np.array(age_2d)\n",
    "print(type(age_2d))"
   ]
  },
  {
   "cell_type": "code",
   "execution_count": 41,
   "id": "8b9fbf48",
   "metadata": {},
   "outputs": [
    {
     "data": {
      "text/plain": [
       "0"
      ]
     },
     "execution_count": 41,
     "metadata": {},
     "output_type": "execute_result"
    }
   ],
   "source": [
    "age_2d[0][0]"
   ]
  },
  {
   "cell_type": "code",
   "execution_count": 45,
   "id": "e5b42100",
   "metadata": {},
   "outputs": [
    {
     "data": {
      "text/plain": [
       "2"
      ]
     },
     "execution_count": 45,
     "metadata": {},
     "output_type": "execute_result"
    }
   ],
   "source": [
    "age_2d[2,2]"
   ]
  },
  {
   "cell_type": "code",
   "execution_count": 48,
   "id": "ea265497",
   "metadata": {},
   "outputs": [
    {
     "data": {
      "text/plain": [
       "array([2, 2, 2])"
      ]
     },
     "execution_count": 48,
     "metadata": {},
     "output_type": "execute_result"
    }
   ],
   "source": [
    "age_2d[0:,2]"
   ]
  },
  {
   "cell_type": "code",
   "execution_count": 50,
   "id": "9de84e4c",
   "metadata": {},
   "outputs": [
    {
     "data": {
      "text/plain": [
       "array([[54, 67],\n",
       "       [54, 67],\n",
       "       [54, 67]])"
      ]
     },
     "execution_count": 50,
     "metadata": {},
     "output_type": "execute_result"
    }
   ],
   "source": [
    "age_2d[0:,-2:]"
   ]
  },
  {
   "cell_type": "code",
   "execution_count": 51,
   "id": "08110b29",
   "metadata": {},
   "outputs": [
    {
     "data": {
      "text/plain": [
       "3.0"
      ]
     },
     "execution_count": 51,
     "metadata": {},
     "output_type": "execute_result"
    }
   ],
   "source": [
    "np.mean(age_2d[0:,3])"
   ]
  },
  {
   "cell_type": "code",
   "execution_count": 52,
   "id": "d90ecb0a",
   "metadata": {},
   "outputs": [
    {
     "data": {
      "text/plain": [
       "3.0"
      ]
     },
     "execution_count": 52,
     "metadata": {},
     "output_type": "execute_result"
    }
   ],
   "source": [
    "np.median(age_2d[0:,3])"
   ]
  },
  {
   "cell_type": "code",
   "execution_count": 53,
   "id": "d4cb78eb",
   "metadata": {},
   "outputs": [
    {
     "data": {
      "text/plain": [
       "0.0"
      ]
     },
     "execution_count": 53,
     "metadata": {},
     "output_type": "execute_result"
    }
   ],
   "source": [
    "np.std(age_2d[0:,3])"
   ]
  },
  {
   "cell_type": "code",
   "execution_count": 55,
   "id": "7945d1dc",
   "metadata": {},
   "outputs": [
    {
     "data": {
      "text/plain": [
       "array([1.9056936 , 1.74006349, 1.88352632, 1.71587366, 2.00653281,\n",
       "       1.71553218, 1.9791554 , 1.78066483, 1.47839048, 1.580017  ])"
      ]
     },
     "execution_count": 55,
     "metadata": {},
     "output_type": "execute_result"
    }
   ],
   "source": [
    "np.random.normal(1.76,0.20,10)"
   ]
  },
  {
   "cell_type": "code",
   "execution_count": null,
   "id": "9caec706",
   "metadata": {},
   "outputs": [],
   "source": []
  }
 ],
 "metadata": {
  "kernelspec": {
   "display_name": "Python 3",
   "language": "python",
   "name": "python3"
  },
  "language_info": {
   "codemirror_mode": {
    "name": "ipython",
    "version": 3
   },
   "file_extension": ".py",
   "mimetype": "text/x-python",
   "name": "python",
   "nbconvert_exporter": "python",
   "pygments_lexer": "ipython3",
   "version": "3.8.8"
  }
 },
 "nbformat": 4,
 "nbformat_minor": 5
}
