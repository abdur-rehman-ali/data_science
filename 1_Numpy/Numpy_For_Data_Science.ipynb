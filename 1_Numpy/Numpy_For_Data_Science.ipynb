{
 "cells": [
  {
   "cell_type": "markdown",
   "id": "f11f8988",
   "metadata": {},
   "source": [
    "<h1>Python For data science</h1>"
   ]
  },
  {
   "cell_type": "code",
   "execution_count": 1,
   "id": "2d73c164",
   "metadata": {},
   "outputs": [
    {
     "name": "stdout",
     "output_type": "stream",
     "text": [
      "Heloo\n"
     ]
    }
   ],
   "source": [
    "print(\"Heloo\")"
   ]
  },
  {
   "cell_type": "markdown",
   "id": "2ac44549",
   "metadata": {},
   "source": [
    "<h2>Numpy tutorial</h2>"
   ]
  },
  {
   "cell_type": "markdown",
   "id": "ca0d31d8",
   "metadata": {},
   "source": [
    "<h4>Importing numpy</h4>"
   ]
  },
  {
   "cell_type": "code",
   "execution_count": 2,
   "id": "20241909",
   "metadata": {},
   "outputs": [],
   "source": [
    "import numpy as np"
   ]
  },
  {
   "cell_type": "code",
   "execution_count": 8,
   "id": "a69fa41a",
   "metadata": {},
   "outputs": [
    {
     "name": "stdout",
     "output_type": "stream",
     "text": [
      "<class 'numpy.ndarray'>\n",
      "<class 'list'>\n"
     ]
    }
   ],
   "source": [
    "np_array = np.array([1,2,3,4,5])\n",
    "print(type(np_array))\n",
    "\n",
    "arr= [1,2,3,4,5]\n",
    "print(type(arr))"
   ]
  },
  {
   "cell_type": "markdown",
   "id": "43f99d61",
   "metadata": {},
   "source": [
    "<h4>np.arange function</h4>"
   ]
  },
  {
   "cell_type": "code",
   "execution_count": 11,
   "id": "da79539c",
   "metadata": {},
   "outputs": [
    {
     "data": {
      "text/plain": [
       "array([1, 3, 5, 7, 9])"
      ]
     },
     "execution_count": 11,
     "metadata": {},
     "output_type": "execute_result"
    }
   ],
   "source": [
    "np.arange(1,11,2)"
   ]
  },
  {
   "cell_type": "code",
   "execution_count": 15,
   "id": "5b2e1986",
   "metadata": {},
   "outputs": [
    {
     "name": "stdout",
     "output_type": "stream",
     "text": [
      "[[1 2 3]\n",
      " [4 5 6]\n",
      " [7 8 9]]\n",
      "<class 'list'>\n",
      "<class 'numpy.ndarray'>\n"
     ]
    }
   ],
   "source": [
    "mt_np_array = [\n",
    "    [1,2,3],\n",
    "    [4,5,6],\n",
    "    [7,8,9]\n",
    "]\n",
    "print(np.array(mt_np_array))\n",
    "\n",
    "print(type(mt_np_array))\n",
    "\n",
    "print(type(np.array(mt_np_array)))"
   ]
  },
  {
   "cell_type": "code",
   "execution_count": 20,
   "id": "1fbc2766",
   "metadata": {},
   "outputs": [
    {
     "name": "stdout",
     "output_type": "stream",
     "text": [
      "(4, 3)\n"
     ]
    }
   ],
   "source": [
    "mt_np_array = [\n",
    "    [1,2,3],\n",
    "    [1,2,3],\n",
    "    [4,5,6],\n",
    "    [7,8,9]\n",
    "]\n",
    "mt_np_array  = np.array(mt_np_array)\n",
    "print(mt_np_array.shape)"
   ]
  },
  {
   "cell_type": "markdown",
   "id": "f8676398",
   "metadata": {},
   "source": [
    "<h4>indexing</h4>"
   ]
  },
  {
   "cell_type": "code",
   "execution_count": 26,
   "id": "c7bc4300",
   "metadata": {},
   "outputs": [
    {
     "name": "stdout",
     "output_type": "stream",
     "text": [
      "[ 1  2  3  4  5  6  7  8  9 10]\n",
      "[1 2 3 4]\n"
     ]
    }
   ],
   "source": [
    "one_d_np_array =np.arange(1,11) \n",
    "print(one_d_np_array)\n",
    "print(one_d_np_array[0:4])  #Print values from index 0-3"
   ]
  },
  {
   "cell_type": "code",
   "execution_count": 34,
   "id": "54f80216",
   "metadata": {},
   "outputs": [
    {
     "name": "stdout",
     "output_type": "stream",
     "text": [
      "[[2 3]\n",
      " [8 9]]\n"
     ]
    }
   ],
   "source": [
    "two_d_np_array = [\n",
    "    [1,2,3],\n",
    "    [7,8,9]\n",
    "]\n",
    "two_d_np_array  = np.array(two_d_np_array )\n",
    "print(two_d_np_array[0:2,1:]) #[start index of row : end index of row , start index of col: end index of col]"
   ]
  },
  {
   "cell_type": "code",
   "execution_count": 35,
   "id": "4b8766db",
   "metadata": {},
   "outputs": [
    {
     "name": "stdout",
     "output_type": "stream",
     "text": [
      "[[5 6]\n",
      " [8 9]]\n"
     ]
    }
   ],
   "source": [
    "mt_np_array = [\n",
    "    [1,2,3],\n",
    "    [4,5,6],\n",
    "    [7,8,9]\n",
    "]\n",
    "mt_np_array  = np.array(mt_np_array)\n",
    "\n",
    "print(mt_np_array[1:3,1:3])"
   ]
  },
  {
   "cell_type": "markdown",
   "id": "80815534",
   "metadata": {},
   "source": [
    "<h4>Arithmetic operators</h4>"
   ]
  },
  {
   "cell_type": "code",
   "execution_count": 36,
   "id": "ebe898b4",
   "metadata": {},
   "outputs": [
    {
     "name": "stdout",
     "output_type": "stream",
     "text": [
      "[1, 2, 3, 4, 5, 1, 2, 3, 4, 5]\n"
     ]
    }
   ],
   "source": [
    "#Add oeprator with list\n",
    "arr1 = [1,2,3,4,5]\n",
    "arr2 = [1,2,3,4,5]\n",
    "\n",
    "print(arr1+arr2)\n"
   ]
  },
  {
   "cell_type": "code",
   "execution_count": 39,
   "id": "fe769c8a",
   "metadata": {},
   "outputs": [
    {
     "name": "stdout",
     "output_type": "stream",
     "text": [
      "[ 2  4  6  8 10]\n",
      "[0 0 0 0 0]\n",
      "[ 1  4  9 16 25]\n",
      "[1. 1. 1. 1. 1.]\n"
     ]
    }
   ],
   "source": [
    "#Numpy arithmetics\n",
    "arr1 = np.array([1,2,3,4,5])\n",
    "arr2 = np.array([1,2,3,4,5])\n",
    "\n",
    "print(arr1+arr2)\n",
    "print(arr1-arr2)\n",
    "print(arr1*arr2)\n",
    "print(arr1/arr2)"
   ]
  },
  {
   "cell_type": "markdown",
   "id": "a9039fb0",
   "metadata": {},
   "source": [
    "<h4>Reshape</h4>"
   ]
  },
  {
   "cell_type": "code",
   "execution_count": 42,
   "id": "b113fbd0",
   "metadata": {},
   "outputs": [
    {
     "name": "stdout",
     "output_type": "stream",
     "text": [
      "(5,)\n",
      "(1, 5)\n"
     ]
    }
   ],
   "source": [
    "#Numpy reshape\n",
    "arr = np.array([1,2,3,4,5])\n",
    "print(arr.shape)\n",
    "reshaped_arr = arr.reshape([1,5])\n",
    "print(reshaped_arr.shape)"
   ]
  },
  {
   "cell_type": "code",
   "execution_count": 46,
   "id": "f0b17637",
   "metadata": {},
   "outputs": [
    {
     "name": "stdout",
     "output_type": "stream",
     "text": [
      "[[1. 1. 1.]\n",
      " [1. 1. 1.]\n",
      " [1. 1. 1.]]\n",
      "\n",
      "\n",
      "[[1 1 1]\n",
      " [1 1 1]\n",
      " [1 1 1]]\n"
     ]
    }
   ],
   "source": [
    "print(np.ones([3,3]))\n",
    "print(\"\\n\")\n",
    "print(np.ones([3,3],dtype=int))"
   ]
  },
  {
   "cell_type": "markdown",
   "id": "101fc533",
   "metadata": {},
   "source": [
    "<h4>Random numbers</h4>"
   ]
  },
  {
   "cell_type": "code",
   "execution_count": 50,
   "id": "4c0623f0",
   "metadata": {},
   "outputs": [
    {
     "data": {
      "text/plain": [
       "array([[0.22688065, 0.55942231, 0.16320439],\n",
       "       [0.17327101, 0.65399204, 0.65267042],\n",
       "       [0.511681  , 0.96056196, 0.66961109]])"
      ]
     },
     "execution_count": 50,
     "metadata": {},
     "output_type": "execute_result"
    }
   ],
   "source": [
    "np.random.rand(3,3)"
   ]
  },
  {
   "cell_type": "code",
   "execution_count": 53,
   "id": "81159c4f",
   "metadata": {},
   "outputs": [
    {
     "data": {
      "text/plain": [
       "array([[-0.50416579, -0.14650381, -0.85561006],\n",
       "       [ 0.28507325,  0.65647792,  0.01163132],\n",
       "       [ 1.78276474,  0.7839807 ,  2.64719625]])"
      ]
     },
     "execution_count": 53,
     "metadata": {},
     "output_type": "execute_result"
    }
   ],
   "source": [
    "np.random.randn(3,3)"
   ]
  },
  {
   "cell_type": "code",
   "execution_count": 57,
   "id": "2a702821",
   "metadata": {},
   "outputs": [
    {
     "data": {
      "text/plain": [
       "array([5, 1])"
      ]
     },
     "execution_count": 57,
     "metadata": {},
     "output_type": "execute_result"
    }
   ],
   "source": [
    "np.random.randint(1,10,2)"
   ]
  },
  {
   "cell_type": "code",
   "execution_count": 59,
   "id": "5116f481",
   "metadata": {},
   "outputs": [
    {
     "data": {
      "text/plain": [
       "array([0.5521462 , 0.3377772 , 0.2858522 , 0.85005802])"
      ]
     },
     "execution_count": 59,
     "metadata": {},
     "output_type": "execute_result"
    }
   ],
   "source": [
    "np.random.random_sample(4)"
   ]
  },
  {
   "cell_type": "markdown",
   "id": "d1a21c9e",
   "metadata": {},
   "source": [
    "<h4>linespace</h4>"
   ]
  },
  {
   "cell_type": "code",
   "execution_count": 66,
   "id": "d795fa11",
   "metadata": {},
   "outputs": [
    {
     "data": {
      "text/plain": [
       "array([ 1.        ,  1.18367347,  1.36734694,  1.55102041,  1.73469388,\n",
       "        1.91836735,  2.10204082,  2.28571429,  2.46938776,  2.65306122,\n",
       "        2.83673469,  3.02040816,  3.20408163,  3.3877551 ,  3.57142857,\n",
       "        3.75510204,  3.93877551,  4.12244898,  4.30612245,  4.48979592,\n",
       "        4.67346939,  4.85714286,  5.04081633,  5.2244898 ,  5.40816327,\n",
       "        5.59183673,  5.7755102 ,  5.95918367,  6.14285714,  6.32653061,\n",
       "        6.51020408,  6.69387755,  6.87755102,  7.06122449,  7.24489796,\n",
       "        7.42857143,  7.6122449 ,  7.79591837,  7.97959184,  8.16326531,\n",
       "        8.34693878,  8.53061224,  8.71428571,  8.89795918,  9.08163265,\n",
       "        9.26530612,  9.44897959,  9.63265306,  9.81632653, 10.        ])"
      ]
     },
     "execution_count": 66,
     "metadata": {},
     "output_type": "execute_result"
    }
   ],
   "source": [
    "# print 50 equally spaced points between 1 and 10\n",
    "np.linspace(1,10,50) "
   ]
  },
  {
   "cell_type": "markdown",
   "id": "85f6299c",
   "metadata": {},
   "source": [
    "<h4>copy and assigning</h4>"
   ]
  },
  {
   "cell_type": "code",
   "execution_count": 74,
   "id": "47bdb598",
   "metadata": {},
   "outputs": [
    {
     "name": "stdout",
     "output_type": "stream",
     "text": [
      "arr Before copying\n",
      "\n",
      "[ 0  1  2 10 10 10 10 10 10 10]\n",
      "arr1\n",
      "\n",
      "[ 0  1  2 50 50 50 50 50 50 50]\n",
      "arr after copying\n",
      "\n",
      "[ 0  1  2 50 50 50 50 50 50 50]\n"
     ]
    }
   ],
   "source": [
    "#Assiging is actually passed by reference\n",
    "arr = np.arange(0,10)\n",
    "arr[3:]=10\n",
    "print(\"arr Before copying\\n\")\n",
    "print(arr)\n",
    "\n",
    "arr1 = arr\n",
    "arr1[3:]=50\n",
    "\n",
    "print(\"arr1\\n\")\n",
    "print(arr1)\n",
    "print(\"arr after copying\\n\")\n",
    "print(arr)"
   ]
  },
  {
   "cell_type": "code",
   "execution_count": 75,
   "id": "0a5f1a3a",
   "metadata": {},
   "outputs": [
    {
     "name": "stdout",
     "output_type": "stream",
     "text": [
      "arr Before copying\n",
      "\n",
      "[ 0  1  2 10 10 10 10 10 10 10]\n",
      "arr1\n",
      "\n",
      "[ 0  1  2 50 50 50 50 50 50 50]\n",
      "arr after copying\n",
      "\n",
      "[ 0  1  2 10 10 10 10 10 10 10]\n"
     ]
    }
   ],
   "source": [
    "#Copy is actually passed by value\n",
    "arr = np.arange(0,10)\n",
    "arr[3:]=10\n",
    "print(\"arr Before copying\\n\")\n",
    "print(arr)\n",
    "\n",
    "arr1 = arr.copy()\n",
    "arr1[3:]=50\n",
    "\n",
    "print(\"arr1\\n\")\n",
    "print(arr1)\n",
    "print(\"arr after copying\\n\")\n",
    "print(arr)"
   ]
  },
  {
   "cell_type": "markdown",
   "id": "06850da2",
   "metadata": {},
   "source": [
    "<h4>Conditioinal</h4>"
   ]
  },
  {
   "cell_type": "code",
   "execution_count": 81,
   "id": "a235da8c",
   "metadata": {},
   "outputs": [
    {
     "name": "stdout",
     "output_type": "stream",
     "text": [
      "[0 1 2 3 4 5 6 7 8 9]\n",
      "[ True  True  True  True  True False False False False False]\n",
      "[0 1 2 3 4]\n"
     ]
    }
   ],
   "source": [
    "arr = np.arange(0,10)\n",
    "print(arr)\n",
    "print(arr<5)\n",
    "print(arr[arr<5])"
   ]
  },
  {
   "cell_type": "code",
   "execution_count": null,
   "id": "0e1d7d4e",
   "metadata": {},
   "outputs": [],
   "source": []
  }
 ],
 "metadata": {
  "kernelspec": {
   "display_name": "Python 3",
   "language": "python",
   "name": "python3"
  },
  "language_info": {
   "codemirror_mode": {
    "name": "ipython",
    "version": 3
   },
   "file_extension": ".py",
   "mimetype": "text/x-python",
   "name": "python",
   "nbconvert_exporter": "python",
   "pygments_lexer": "ipython3",
   "version": "3.9.5"
  }
 },
 "nbformat": 4,
 "nbformat_minor": 5
}
