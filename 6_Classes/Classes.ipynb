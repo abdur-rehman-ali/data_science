{
 "cells": [
  {
   "cell_type": "markdown",
   "id": "c36055bd",
   "metadata": {},
   "source": [
    "<h1>Classes and objects</h1>"
   ]
  },
  {
   "cell_type": "code",
   "execution_count": 3,
   "id": "d9fbdcf8",
   "metadata": {},
   "outputs": [
    {
     "data": {
      "text/plain": [
       "5"
      ]
     },
     "execution_count": 3,
     "metadata": {},
     "output_type": "execute_result"
    }
   ],
   "source": [
    "#Creating class (contain properties and methods)\n",
    "class Myclass:\n",
    "    x=5\n",
    " \n",
    "#Creating object\n",
    "obj = Myclass()\n",
    "obj.x"
   ]
  },
  {
   "cell_type": "markdown",
   "id": "05626f4f",
   "metadata": {},
   "source": [
    "<h1>__init__() function </h1>\n",
    "<p>This function is like a constructor which gets executed when object is created</p>\n"
   ]
  },
  {
   "cell_type": "code",
   "execution_count": 10,
   "id": "15d80e5b",
   "metadata": {},
   "outputs": [],
   "source": [
    "class Person:\n",
    "    def __init__(self,name,age):\n",
    "        self.user_name=name\n",
    "        self.user_age=age"
   ]
  },
  {
   "cell_type": "code",
   "execution_count": 11,
   "id": "3a769471",
   "metadata": {},
   "outputs": [
    {
     "name": "stdout",
     "output_type": "stream",
     "text": [
      "Ali\n",
      "21\n"
     ]
    }
   ],
   "source": [
    "person1 = Person(\"Ali\",21)\n",
    "print(person1.user_name)\n",
    "print(person1.user_age)"
   ]
  },
  {
   "cell_type": "markdown",
   "id": "1533494e",
   "metadata": {},
   "source": [
    "<h2>Object Methods</h2>\n",
    "<p>Methods in objects are functions that belong to that object</p>"
   ]
  },
  {
   "cell_type": "code",
   "execution_count": 24,
   "id": "8f04c494",
   "metadata": {},
   "outputs": [],
   "source": [
    "class House:\n",
    "    def __init__(self,rooms):\n",
    "        self.rooms = rooms\n",
    "    \n",
    "    def totalRooms(self):\n",
    "        return f\"The total number of rooms in this house are {self.rooms}\""
   ]
  },
  {
   "cell_type": "code",
   "execution_count": 25,
   "id": "7c9d0541",
   "metadata": {},
   "outputs": [
    {
     "data": {
      "text/plain": [
       "'The total number of rooms in this house are 5'"
      ]
     },
     "execution_count": 25,
     "metadata": {},
     "output_type": "execute_result"
    }
   ],
   "source": [
    "house1 =House(5) \n",
    "house1.totalRooms()"
   ]
  },
  {
   "cell_type": "markdown",
   "id": "2c12ffec",
   "metadata": {},
   "source": [
    "<h2>Self parameter</h2>\n",
    "<ol>\n",
    "<li>Self is the reference to current instance of class</li>\n",
    "<li>It should be first parameter of every function in the class</li>\n",
    "<li>It's name can be anything </li>\n",
    "</ol>"
   ]
  },
  {
   "cell_type": "code",
   "execution_count": 26,
   "id": "56a731a2",
   "metadata": {},
   "outputs": [],
   "source": [
    "class House:\n",
    "    def __init__(currentObj,rooms):\n",
    "        currentObj.rooms = rooms\n",
    "    \n",
    "    def totalRooms(obj):\n",
    "        return f\"The total number of rooms in this house are {obj.rooms}\""
   ]
  },
  {
   "cell_type": "code",
   "execution_count": 29,
   "id": "968853d7",
   "metadata": {},
   "outputs": [
    {
     "name": "stdout",
     "output_type": "stream",
     "text": [
      "The total number of rooms in this house are 5\n"
     ]
    },
    {
     "data": {
      "text/plain": [
       "5"
      ]
     },
     "execution_count": 29,
     "metadata": {},
     "output_type": "execute_result"
    }
   ],
   "source": [
    "house1 =House(5) \n",
    "print(house1.totalRooms())\n",
    "house1.rooms"
   ]
  },
  {
   "cell_type": "markdown",
   "id": "70ec87db",
   "metadata": {},
   "source": [
    "<h2>Modify object property</h2>\n",
    "<p>if member variables of our class are public then we can modify it </p>"
   ]
  },
  {
   "cell_type": "code",
   "execution_count": 30,
   "id": "2f13c60d",
   "metadata": {},
   "outputs": [
    {
     "data": {
      "text/plain": [
       "'The total number of rooms in this house are 3'"
      ]
     },
     "execution_count": 30,
     "metadata": {},
     "output_type": "execute_result"
    }
   ],
   "source": [
    "house1.rooms=3\n",
    "house1.totalRooms()"
   ]
  },
  {
   "cell_type": "markdown",
   "id": "03e8e8bf",
   "metadata": {},
   "source": [
    "<h2>Delete object property</h2>\n",
    "<p>if member variables of our class are public then we can delete it </p>"
   ]
  },
  {
   "cell_type": "code",
   "execution_count": 31,
   "id": "789bdcc1",
   "metadata": {},
   "outputs": [
    {
     "ename": "AttributeError",
     "evalue": "'House' object has no attribute 'rooms'",
     "output_type": "error",
     "traceback": [
      "\u001b[1;31m---------------------------------------------------------------------------\u001b[0m",
      "\u001b[1;31mAttributeError\u001b[0m                            Traceback (most recent call last)",
      "\u001b[1;32m<ipython-input-31-f194e529b8ba>\u001b[0m in \u001b[0;36m<module>\u001b[1;34m\u001b[0m\n\u001b[0;32m      1\u001b[0m \u001b[1;32mdel\u001b[0m \u001b[0mhouse1\u001b[0m\u001b[1;33m.\u001b[0m\u001b[0mrooms\u001b[0m\u001b[1;33m\u001b[0m\u001b[1;33m\u001b[0m\u001b[0m\n\u001b[1;32m----> 2\u001b[1;33m \u001b[0mhouse1\u001b[0m\u001b[1;33m.\u001b[0m\u001b[0mtotalRooms\u001b[0m\u001b[1;33m(\u001b[0m\u001b[1;33m)\u001b[0m\u001b[1;33m\u001b[0m\u001b[1;33m\u001b[0m\u001b[0m\n\u001b[0m",
      "\u001b[1;32m<ipython-input-26-165fbc755dfa>\u001b[0m in \u001b[0;36mtotalRooms\u001b[1;34m(obj)\u001b[0m\n\u001b[0;32m      4\u001b[0m \u001b[1;33m\u001b[0m\u001b[0m\n\u001b[0;32m      5\u001b[0m     \u001b[1;32mdef\u001b[0m \u001b[0mtotalRooms\u001b[0m\u001b[1;33m(\u001b[0m\u001b[0mobj\u001b[0m\u001b[1;33m)\u001b[0m\u001b[1;33m:\u001b[0m\u001b[1;33m\u001b[0m\u001b[1;33m\u001b[0m\u001b[0m\n\u001b[1;32m----> 6\u001b[1;33m         \u001b[1;32mreturn\u001b[0m \u001b[1;34mf\"The total number of rooms in this house are {obj.rooms}\"\u001b[0m\u001b[1;33m\u001b[0m\u001b[1;33m\u001b[0m\u001b[0m\n\u001b[0m",
      "\u001b[1;31mAttributeError\u001b[0m: 'House' object has no attribute 'rooms'"
     ]
    }
   ],
   "source": [
    "del house1.rooms\n",
    "house1.totalRooms()"
   ]
  },
  {
   "cell_type": "markdown",
   "id": "3ffda166",
   "metadata": {},
   "source": [
    "<h2>Access specifiers, Public,private,protected </h2>"
   ]
  },
  {
   "cell_type": "markdown",
   "id": "af16b684",
   "metadata": {},
   "source": [
    "<h3>Public (can be accesed outside the class)</h3>"
   ]
  },
  {
   "cell_type": "code",
   "execution_count": 47,
   "id": "0651e1fa",
   "metadata": {},
   "outputs": [],
   "source": [
    "#Public variables\n",
    "class House:\n",
    "    def __init__(self,rooms):\n",
    "        self.rooms=rooms\n",
    "    def totalRooms(self):\n",
    "        return f\"The total number of rooms in this house are {self.rooms}\""
   ]
  },
  {
   "cell_type": "code",
   "execution_count": 48,
   "id": "a31d2dc5",
   "metadata": {},
   "outputs": [
    {
     "name": "stdout",
     "output_type": "stream",
     "text": [
      "The total number of rooms in this house are 4\n"
     ]
    },
    {
     "data": {
      "text/plain": [
       "['__class__',\n",
       " '__delattr__',\n",
       " '__dict__',\n",
       " '__dir__',\n",
       " '__doc__',\n",
       " '__eq__',\n",
       " '__format__',\n",
       " '__ge__',\n",
       " '__getattribute__',\n",
       " '__gt__',\n",
       " '__hash__',\n",
       " '__init__',\n",
       " '__init_subclass__',\n",
       " '__le__',\n",
       " '__lt__',\n",
       " '__module__',\n",
       " '__ne__',\n",
       " '__new__',\n",
       " '__reduce__',\n",
       " '__reduce_ex__',\n",
       " '__repr__',\n",
       " '__setattr__',\n",
       " '__sizeof__',\n",
       " '__str__',\n",
       " '__subclasshook__',\n",
       " '__weakref__',\n",
       " 'rooms',\n",
       " 'totalRooms']"
      ]
     },
     "execution_count": 48,
     "metadata": {},
     "output_type": "execute_result"
    }
   ],
   "source": [
    "house1 = House(4)\n",
    "\n",
    "print(house1.totalRooms())\n",
    "dir(house1)"
   ]
  },
  {
   "cell_type": "markdown",
   "id": "bcdb267e",
   "metadata": {},
   "source": [
    "<h3>\n",
    "Private variables (can't be accesed outside the class or child class)\n",
    "</h3>"
   ]
  },
  {
   "cell_type": "code",
   "execution_count": 45,
   "id": "be2382ce",
   "metadata": {},
   "outputs": [],
   "source": [
    "#Private variables (can't be accesed outside the class)\n",
    "class House:\n",
    "    def __init__(self,rooms):\n",
    "        self.__rooms=rooms\n",
    "    def totalRooms(self):\n",
    "        return f\"The total number of rooms in this house are {self.__rooms}\""
   ]
  },
  {
   "cell_type": "code",
   "execution_count": 46,
   "id": "316f5621",
   "metadata": {},
   "outputs": [
    {
     "name": "stdout",
     "output_type": "stream",
     "text": [
      "The total number of rooms in this house are 5\n"
     ]
    },
    {
     "data": {
      "text/plain": [
       "['_House__rooms',\n",
       " '__class__',\n",
       " '__delattr__',\n",
       " '__dict__',\n",
       " '__dir__',\n",
       " '__doc__',\n",
       " '__eq__',\n",
       " '__format__',\n",
       " '__ge__',\n",
       " '__getattribute__',\n",
       " '__gt__',\n",
       " '__hash__',\n",
       " '__init__',\n",
       " '__init_subclass__',\n",
       " '__le__',\n",
       " '__lt__',\n",
       " '__module__',\n",
       " '__ne__',\n",
       " '__new__',\n",
       " '__reduce__',\n",
       " '__reduce_ex__',\n",
       " '__repr__',\n",
       " '__setattr__',\n",
       " '__sizeof__',\n",
       " '__str__',\n",
       " '__subclasshook__',\n",
       " '__weakref__',\n",
       " 'totalRooms']"
      ]
     },
     "execution_count": 46,
     "metadata": {},
     "output_type": "execute_result"
    }
   ],
   "source": [
    "house2 = House(5)\n",
    "print(house2.totalRooms())\n",
    "dir(house2)"
   ]
  },
  {
   "cell_type": "markdown",
   "id": "085a9316",
   "metadata": {},
   "source": [
    "<h3>\n",
    "Protected variables (can be accesed by child classes but not outside the class)\n",
    "</h3>"
   ]
  },
  {
   "cell_type": "code",
   "execution_count": 66,
   "id": "8f9e67cb",
   "metadata": {},
   "outputs": [],
   "source": [
    "class Vehicle:\n",
    "    def __init__(self,color,doors):\n",
    "        self.__color = color\n",
    "        self.__doors = doors\n",
    "        \n",
    "class car(Vehicle):\n",
    "    def __init__(self,color,doors,enginetype):\n",
    "        super().__init__(color,doors)\n",
    "        self._enginetype=enginetype\n"
   ]
  },
  {
   "cell_type": "code",
   "execution_count": 68,
   "id": "bf8e2a18",
   "metadata": {},
   "outputs": [
    {
     "data": {
      "text/plain": [
       "['_Vehicle__color',\n",
       " '_Vehicle__doors',\n",
       " '__class__',\n",
       " '__delattr__',\n",
       " '__dict__',\n",
       " '__dir__',\n",
       " '__doc__',\n",
       " '__eq__',\n",
       " '__format__',\n",
       " '__ge__',\n",
       " '__getattribute__',\n",
       " '__gt__',\n",
       " '__hash__',\n",
       " '__init__',\n",
       " '__init_subclass__',\n",
       " '__le__',\n",
       " '__lt__',\n",
       " '__module__',\n",
       " '__ne__',\n",
       " '__new__',\n",
       " '__reduce__',\n",
       " '__reduce_ex__',\n",
       " '__repr__',\n",
       " '__setattr__',\n",
       " '__sizeof__',\n",
       " '__str__',\n",
       " '__subclasshook__',\n",
       " '__weakref__',\n",
       " '_enginetype']"
      ]
     },
     "execution_count": 68,
     "metadata": {},
     "output_type": "execute_result"
    }
   ],
   "source": [
    "car1 = car(\"Black\",5,\"Diesel\")\n",
    "# print(car1._doors)\n",
    "dir(car1)"
   ]
  },
  {
   "cell_type": "code",
   "execution_count": 63,
   "id": "27ad0677",
   "metadata": {},
   "outputs": [
    {
     "data": {
      "text/plain": [
       "['__class__',\n",
       " '__delattr__',\n",
       " '__dict__',\n",
       " '__dir__',\n",
       " '__doc__',\n",
       " '__eq__',\n",
       " '__format__',\n",
       " '__ge__',\n",
       " '__getattribute__',\n",
       " '__gt__',\n",
       " '__hash__',\n",
       " '__init__',\n",
       " '__init_subclass__',\n",
       " '__le__',\n",
       " '__lt__',\n",
       " '__module__',\n",
       " '__ne__',\n",
       " '__new__',\n",
       " '__reduce__',\n",
       " '__reduce_ex__',\n",
       " '__repr__',\n",
       " '__setattr__',\n",
       " '__sizeof__',\n",
       " '__str__',\n",
       " '__subclasshook__',\n",
       " '__weakref__',\n",
       " '_color',\n",
       " '_doors']"
      ]
     },
     "execution_count": 63,
     "metadata": {},
     "output_type": "execute_result"
    }
   ],
   "source": [
    "veh = Vehicle(\"Black\",5)\n",
    "dir(veh)"
   ]
  },
  {
   "cell_type": "code",
   "execution_count": null,
   "id": "eb3764db",
   "metadata": {},
   "outputs": [],
   "source": []
  }
 ],
 "metadata": {
  "kernelspec": {
   "display_name": "Python 3",
   "language": "python",
   "name": "python3"
  },
  "language_info": {
   "codemirror_mode": {
    "name": "ipython",
    "version": 3
   },
   "file_extension": ".py",
   "mimetype": "text/x-python",
   "name": "python",
   "nbconvert_exporter": "python",
   "pygments_lexer": "ipython3",
   "version": "3.9.6"
  }
 },
 "nbformat": 4,
 "nbformat_minor": 5
}
