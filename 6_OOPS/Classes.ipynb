{
 "cells": [
  {
   "cell_type": "markdown",
   "id": "c36055bd",
   "metadata": {},
   "source": [
    "<h1>Classes and objects</h1>"
   ]
  },
  {
   "cell_type": "code",
   "execution_count": 1,
   "id": "d9fbdcf8",
   "metadata": {},
   "outputs": [
    {
     "data": {
      "text/plain": [
       "5"
      ]
     },
     "execution_count": 1,
     "metadata": {},
     "output_type": "execute_result"
    }
   ],
   "source": [
    "#Creating class (contain properties and methods)\n",
    "class Myclass:\n",
    "    x=5\n",
    " \n",
    "#Creating object\n",
    "obj = Myclass()\n",
    "obj.x"
   ]
  },
  {
   "cell_type": "markdown",
   "id": "05626f4f",
   "metadata": {},
   "source": [
    "<h1>__init__() function </h1>\n",
    "<p>This function is like a constructor which gets executed when object is created</p>\n"
   ]
  },
  {
   "cell_type": "code",
   "execution_count": 2,
   "id": "15d80e5b",
   "metadata": {},
   "outputs": [],
   "source": [
    "class Person:\n",
    "    def __init__(self,name,age):\n",
    "        self.user_name=name\n",
    "        self.user_age=age"
   ]
  },
  {
   "cell_type": "code",
   "execution_count": 11,
   "id": "3a769471",
   "metadata": {},
   "outputs": [
    {
     "name": "stdout",
     "output_type": "stream",
     "text": [
      "Ali\n",
      "21\n"
     ]
    }
   ],
   "source": [
    "person1 = Person(\"Ali\",21)\n",
    "print(person1.user_name)\n",
    "print(person1.user_age)"
   ]
  },
  {
   "cell_type": "markdown",
   "id": "1533494e",
   "metadata": {},
   "source": [
    "<h2>Object Methods</h2>\n",
    "<p>Methods in objects are functions that belong to that object</p>"
   ]
  },
  {
   "cell_type": "code",
   "execution_count": 24,
   "id": "8f04c494",
   "metadata": {},
   "outputs": [],
   "source": [
    "class House:\n",
    "    def __init__(self,rooms):\n",
    "        self.rooms = rooms\n",
    "    \n",
    "    def totalRooms(self):\n",
    "        return f\"The total number of rooms in this house are {self.rooms}\""
   ]
  },
  {
   "cell_type": "code",
   "execution_count": 25,
   "id": "7c9d0541",
   "metadata": {},
   "outputs": [
    {
     "data": {
      "text/plain": [
       "'The total number of rooms in this house are 5'"
      ]
     },
     "execution_count": 25,
     "metadata": {},
     "output_type": "execute_result"
    }
   ],
   "source": [
    "house1 =House(5) \n",
    "house1.totalRooms()"
   ]
  },
  {
   "cell_type": "markdown",
   "id": "2c12ffec",
   "metadata": {},
   "source": [
    "<h2>Self parameter</h2>\n",
    "<ol>\n",
    "<li>Self is the reference to current instance of class</li>\n",
    "<li>It should be first parameter of every function in the class</li>\n",
    "<li>It's name can be anything </li>\n",
    "</ol>"
   ]
  },
  {
   "cell_type": "code",
   "execution_count": 26,
   "id": "56a731a2",
   "metadata": {},
   "outputs": [],
   "source": [
    "class House:\n",
    "    def __init__(currentObj,rooms):\n",
    "        currentObj.rooms = rooms\n",
    "    \n",
    "    def totalRooms(obj):\n",
    "        return f\"The total number of rooms in this house are {obj.rooms}\""
   ]
  },
  {
   "cell_type": "code",
   "execution_count": 29,
   "id": "968853d7",
   "metadata": {},
   "outputs": [
    {
     "name": "stdout",
     "output_type": "stream",
     "text": [
      "The total number of rooms in this house are 5\n"
     ]
    },
    {
     "data": {
      "text/plain": [
       "5"
      ]
     },
     "execution_count": 29,
     "metadata": {},
     "output_type": "execute_result"
    }
   ],
   "source": [
    "house1 =House(5) \n",
    "print(house1.totalRooms())\n",
    "house1.rooms"
   ]
  },
  {
   "cell_type": "markdown",
   "id": "70ec87db",
   "metadata": {},
   "source": [
    "<h2>Modify object property</h2>\n",
    "<p>if member variables of our class are public then we can modify it </p>"
   ]
  },
  {
   "cell_type": "code",
   "execution_count": 30,
   "id": "2f13c60d",
   "metadata": {},
   "outputs": [
    {
     "data": {
      "text/plain": [
       "'The total number of rooms in this house are 3'"
      ]
     },
     "execution_count": 30,
     "metadata": {},
     "output_type": "execute_result"
    }
   ],
   "source": [
    "house1.rooms=3\n",
    "house1.totalRooms()"
   ]
  },
  {
   "cell_type": "markdown",
   "id": "03e8e8bf",
   "metadata": {},
   "source": [
    "<h2>Delete object property</h2>\n",
    "<p>if member variables of our class are public then we can delete it </p>"
   ]
  },
  {
   "cell_type": "code",
   "execution_count": 31,
   "id": "789bdcc1",
   "metadata": {},
   "outputs": [
    {
     "ename": "AttributeError",
     "evalue": "'House' object has no attribute 'rooms'",
     "output_type": "error",
     "traceback": [
      "\u001b[1;31m---------------------------------------------------------------------------\u001b[0m",
      "\u001b[1;31mAttributeError\u001b[0m                            Traceback (most recent call last)",
      "\u001b[1;32m<ipython-input-31-f194e529b8ba>\u001b[0m in \u001b[0;36m<module>\u001b[1;34m\u001b[0m\n\u001b[0;32m      1\u001b[0m \u001b[1;32mdel\u001b[0m \u001b[0mhouse1\u001b[0m\u001b[1;33m.\u001b[0m\u001b[0mrooms\u001b[0m\u001b[1;33m\u001b[0m\u001b[1;33m\u001b[0m\u001b[0m\n\u001b[1;32m----> 2\u001b[1;33m \u001b[0mhouse1\u001b[0m\u001b[1;33m.\u001b[0m\u001b[0mtotalRooms\u001b[0m\u001b[1;33m(\u001b[0m\u001b[1;33m)\u001b[0m\u001b[1;33m\u001b[0m\u001b[1;33m\u001b[0m\u001b[0m\n\u001b[0m",
      "\u001b[1;32m<ipython-input-26-165fbc755dfa>\u001b[0m in \u001b[0;36mtotalRooms\u001b[1;34m(obj)\u001b[0m\n\u001b[0;32m      4\u001b[0m \u001b[1;33m\u001b[0m\u001b[0m\n\u001b[0;32m      5\u001b[0m     \u001b[1;32mdef\u001b[0m \u001b[0mtotalRooms\u001b[0m\u001b[1;33m(\u001b[0m\u001b[0mobj\u001b[0m\u001b[1;33m)\u001b[0m\u001b[1;33m:\u001b[0m\u001b[1;33m\u001b[0m\u001b[1;33m\u001b[0m\u001b[0m\n\u001b[1;32m----> 6\u001b[1;33m         \u001b[1;32mreturn\u001b[0m \u001b[1;34mf\"The total number of rooms in this house are {obj.rooms}\"\u001b[0m\u001b[1;33m\u001b[0m\u001b[1;33m\u001b[0m\u001b[0m\n\u001b[0m",
      "\u001b[1;31mAttributeError\u001b[0m: 'House' object has no attribute 'rooms'"
     ]
    }
   ],
   "source": [
    "del house1.rooms\n",
    "house1.totalRooms()"
   ]
  },
  {
   "cell_type": "markdown",
   "id": "3ffda166",
   "metadata": {},
   "source": [
    "<h2>Access specifiers, Public,private,protected </h2>"
   ]
  },
  {
   "cell_type": "markdown",
   "id": "375b2286",
   "metadata": {},
   "source": [
    "<h3>Public (can be accesed outside the class)</h3>\n",
    "<p>The members of a class that are declared public are easily accessible from any part of the program. All data members and member functions of a class are public by default.</p>\n"
   ]
  },
  {
   "cell_type": "code",
   "execution_count": 9,
   "id": "0651e1fa",
   "metadata": {},
   "outputs": [
    {
     "name": "stdout",
     "output_type": "stream",
     "text": [
      "ali\n",
      "21\n",
      "My name is ali. and my age is 21\n"
     ]
    }
   ],
   "source": [
    "#Public variables\n",
    "class intro:\n",
    "    def __init__(self,name,age):\n",
    "        self.name=name\n",
    "        self.age=age\n",
    "    \n",
    "    def displayIntro(self):\n",
    "        return f\"My name is {self.name}. and my age is {self.age}\"\n",
    "    \n",
    "student1=intro(\"ali\",21)\n",
    "\n",
    "print(student1.name)\n",
    "print(student1.age)\n",
    "print(student1.displayIntro())"
   ]
  },
  {
   "cell_type": "markdown",
   "id": "c60b9eec",
   "metadata": {},
   "source": [
    "<p>In the above program, name and age are public data members and displayIntro() method is a public member function of the class Geek. These data members of the class Geek can be accessed from anywhere in the program.</p>"
   ]
  },
  {
   "cell_type": "code",
   "execution_count": 11,
   "id": "8a8ad38c",
   "metadata": {},
   "outputs": [
    {
     "data": {
      "text/plain": [
       "['__class__',\n",
       " '__delattr__',\n",
       " '__dict__',\n",
       " '__dir__',\n",
       " '__doc__',\n",
       " '__eq__',\n",
       " '__format__',\n",
       " '__ge__',\n",
       " '__getattribute__',\n",
       " '__gt__',\n",
       " '__hash__',\n",
       " '__init__',\n",
       " '__init_subclass__',\n",
       " '__le__',\n",
       " '__lt__',\n",
       " '__module__',\n",
       " '__ne__',\n",
       " '__new__',\n",
       " '__reduce__',\n",
       " '__reduce_ex__',\n",
       " '__repr__',\n",
       " '__setattr__',\n",
       " '__sizeof__',\n",
       " '__str__',\n",
       " '__subclasshook__',\n",
       " '__weakref__',\n",
       " 'age',\n",
       " 'displayIntro',\n",
       " 'name']"
      ]
     },
     "execution_count": 11,
     "metadata": {},
     "output_type": "execute_result"
    }
   ],
   "source": [
    "dir(student1)"
   ]
  },
  {
   "cell_type": "markdown",
   "id": "1f9d182e",
   "metadata": {},
   "source": [
    "<h3>\n",
    "Private variables \n",
    "</h3>\n",
    "<p>The members of a class that are declared private are accessible within the class only, private access modifier is the most secure access modifier. Data members of a class are declared private by adding a double underscore ‘__’ symbol before the data member of that class.</p>"
   ]
  },
  {
   "cell_type": "code",
   "execution_count": 45,
   "id": "be2382ce",
   "metadata": {},
   "outputs": [],
   "source": [
    "#Private variables (can't be accesed outside the class)\n",
    "class House:\n",
    "    def __init__(self,rooms):\n",
    "        self.__rooms=rooms\n",
    "    def totalRooms(self):\n",
    "        return f\"The total number of rooms in this house are {self.__rooms}\""
   ]
  },
  {
   "cell_type": "code",
   "execution_count": 46,
   "id": "316f5621",
   "metadata": {},
   "outputs": [
    {
     "name": "stdout",
     "output_type": "stream",
     "text": [
      "The total number of rooms in this house are 5\n"
     ]
    },
    {
     "data": {
      "text/plain": [
       "['_House__rooms',\n",
       " '__class__',\n",
       " '__delattr__',\n",
       " '__dict__',\n",
       " '__dir__',\n",
       " '__doc__',\n",
       " '__eq__',\n",
       " '__format__',\n",
       " '__ge__',\n",
       " '__getattribute__',\n",
       " '__gt__',\n",
       " '__hash__',\n",
       " '__init__',\n",
       " '__init_subclass__',\n",
       " '__le__',\n",
       " '__lt__',\n",
       " '__module__',\n",
       " '__ne__',\n",
       " '__new__',\n",
       " '__reduce__',\n",
       " '__reduce_ex__',\n",
       " '__repr__',\n",
       " '__setattr__',\n",
       " '__sizeof__',\n",
       " '__str__',\n",
       " '__subclasshook__',\n",
       " '__weakref__',\n",
       " 'totalRooms']"
      ]
     },
     "execution_count": 46,
     "metadata": {},
     "output_type": "execute_result"
    }
   ],
   "source": [
    "house2 = House(5)\n",
    "print(house2.totalRooms())\n",
    "dir(house2)"
   ]
  },
  {
   "cell_type": "markdown",
   "id": "b6721973",
   "metadata": {},
   "source": [
    "<h3>\n",
    "Protected access modifiers \n",
    "</h3>\n",
    "<p>The members of a class that are declared protected are only accessible to a class derived from it. Data members of a class are declared protected by adding a single underscore ‘_’ symbol before the data member of that class. </p>"
   ]
  },
  {
   "cell_type": "code",
   "execution_count": 28,
   "id": "8f9e67cb",
   "metadata": {},
   "outputs": [
    {
     "name": "stdout",
     "output_type": "stream",
     "text": [
      "My nams is Ali\n",
      "My name is Ali and grade is A\n",
      "\n",
      "Calling function of parent class\n",
      "\n",
      "My name is Ali and dept is CS\n"
     ]
    }
   ],
   "source": [
    "class student:\n",
    "    # constructor\n",
    "    def __init__(self,name,roll,dept):\n",
    "        self._name=name\n",
    "        self._roll=roll\n",
    "        self._dept=dept\n",
    "    \n",
    "    # protected member function \n",
    "    def _showDetails(self):\n",
    "        # accessing protected data members\n",
    "        return f\"My name is {self._name} and dept is {self._dept}\"\n",
    "    \n",
    "class champion(student):\n",
    "    def __init__ (self,name,roll,dept,grade):\n",
    "        student.__init__(self,name,roll,dept)\n",
    "        self.grade=grade\n",
    "    \n",
    "    # public member function\n",
    "    def showChampion(self):\n",
    "        # accessing protected data members of super class\n",
    "        print(f\"My nams is {self._name}\")\n",
    "        return f\"My name is {self._name} and grade is {self.grade}\"\n",
    "    \n",
    "\n",
    "champ=champion(\"Ali\",2018030,\"CS\",\"A\")\n",
    "\n",
    "\n",
    "print(champ.showChampion())\n",
    "print(\"\\nCalling function of parent class\\n\")\n",
    "print(champ._showDetails())"
   ]
  },
  {
   "cell_type": "code",
   "execution_count": 29,
   "id": "eb3764db",
   "metadata": {},
   "outputs": [
    {
     "name": "stdout",
     "output_type": "stream",
     "text": [
      "Public Data Member:  Geeks\n",
      "Protected Data Member:  4\n",
      "Private Data Member:  Geeks !\n",
      "Object is accessing protected member: 4\n"
     ]
    }
   ],
   "source": [
    "# program to illustrate access modifiers of a class\n",
    "\n",
    "# super class\n",
    "class Super:\n",
    "\t\n",
    "\t# public data member\n",
    "\tvar1 = None\n",
    "\n",
    "\t# protected data member\n",
    "\t_var2 = None\n",
    "\t\n",
    "\t# private data member\n",
    "\t__var3 = None\n",
    "\t\n",
    "\t# constructor\n",
    "\tdef __init__(self, var1, var2, var3):\n",
    "\t\tself.var1 = var1\n",
    "\t\tself._var2 = var2\n",
    "\t\tself.__var3 = var3\n",
    "\t\n",
    "\t# public member function\n",
    "\tdef displayPublicMembers(self):\n",
    "\n",
    "\t\t# accessing public data members\n",
    "\t\tprint(\"Public Data Member: \", self.var1)\n",
    "\t\t\n",
    "\t# protected member function\n",
    "\tdef _displayProtectedMembers(self):\n",
    "\n",
    "\t\t# accessing protected data members\n",
    "\t\tprint(\"Protected Data Member: \", self._var2)\n",
    "\t\n",
    "\t# private member function\n",
    "\tdef __displayPrivateMembers(self):\n",
    "\n",
    "\t\t# accessing private data members\n",
    "\t\tprint(\"Private Data Member: \", self.__var3)\n",
    "\n",
    "\t# public member function\n",
    "\tdef accessPrivateMembers(self):\t\n",
    "\t\t\n",
    "\t\t# accessing private memeber function\n",
    "\t\tself.__displayPrivateMembers()\n",
    "\n",
    "# derived class\n",
    "class Sub(Super):\n",
    "\n",
    "\t# constructor\n",
    "\tdef __init__(self, var1, var2, var3):\n",
    "\t\t\t\tSuper.__init__(self, var1, var2, var3)\n",
    "\t\t\n",
    "\t# public member function\n",
    "\tdef accessProtectedMemebers(self):\n",
    "\t\t\t\t\n",
    "\t\t\t\t# accessing protected member functions of super class\n",
    "\t\t\t\tself._displayProtectedMembers()\n",
    "\n",
    "# creating objects of the derived class\t\n",
    "obj = Sub(\"Geeks\", 4, \"Geeks !\")\n",
    "\n",
    "# calling public member functions of the class\n",
    "obj.displayPublicMembers()\n",
    "obj.accessProtectedMemebers()\n",
    "obj.accessPrivateMembers()\n",
    "\n",
    "# Object can access protected member\n",
    "print(\"Object is accessing protected member:\", obj._var2)\n",
    "\n",
    "# object can not access private member, so it will generate Attribute error\n",
    "#print(obj.__var3)\n"
   ]
  },
  {
   "cell_type": "markdown",
   "id": "f2a95455",
   "metadata": {},
   "source": [
    "<h3>Magic methods</h3>\n",
    "<p>Magic methods in Python are the special methods that start and end with the double underscores. They are also called dunder methods. Magic methods are not meant to be invoked directly by you, but the invocation happens internally from the class on a certain action</p>\n",
    "<p>For example, when you add two numbers using the + operator, internally, the __add__() method will be called.</p>"
   ]
  },
  {
   "cell_type": "markdown",
   "id": "b1e966aa",
   "metadata": {},
   "source": [
    "<h4>__new__() method</h4>\n",
    "<ol>\n",
    "    <li>Languages such as Java and C#  use the new operator to create a new instance of a class. </li>\n",
    "    <li>In Python the __new__() magic method is implicitly called before the __init__() method. </li>\n",
    "    <li>The __new__() method returns a new object, which is then initialized by __init__().</li>\n",
    "</ol>"
   ]
  },
  {
   "cell_type": "code",
   "execution_count": 30,
   "id": "75276dde",
   "metadata": {},
   "outputs": [
    {
     "name": "stdout",
     "output_type": "stream",
     "text": [
      "__new__ megic method is called\n"
     ]
    }
   ],
   "source": [
    "class employee:\n",
    "    def __new__(self):\n",
    "        print(\"__new__ megic method is called\")\n",
    "        \n",
    "    def __init__(self):\n",
    "        print(\"__init__ megic method is called\")\n",
    "        \n",
    "emp=employee()\n",
    "        "
   ]
  },
  {
   "cell_type": "code",
   "execution_count": 32,
   "id": "6877a103",
   "metadata": {},
   "outputs": [
    {
     "name": "stdout",
     "output_type": "stream",
     "text": [
      "__new__ megic method is called\n",
      "__init__ megic method is called\n"
     ]
    }
   ],
   "source": [
    "class employee:\n",
    "    def __new__(self):\n",
    "        print(\"__new__ megic method is called\")\n",
    "        return object.__new__(self)\n",
    "        \n",
    "    def __init__(self):\n",
    "        print(\"__init__ megic method is called\")\n",
    "        \n",
    "emp=employee()"
   ]
  },
  {
   "cell_type": "markdown",
   "id": "5a47caf3",
   "metadata": {},
   "source": [
    "<h4> __str__ () method </h4>\n",
    "<ol>\n",
    "<li> It is overridden to return a printable string representation of any user defined class</li>\n",
    "<li>Let us now override the __str__() method in the Employee class to return a string representation of its object.</li>\n",
    "</ol>"
   ]
  },
  {
   "cell_type": "code",
   "execution_count": 34,
   "id": "385aad36",
   "metadata": {},
   "outputs": [
    {
     "name": "stdout",
     "output_type": "stream",
     "text": [
      "<__main__.Employee object at 0x000002190FC09700>\n"
     ]
    }
   ],
   "source": [
    "class Employee:\n",
    "    def __init__(self,name,age):\n",
    "        self.name=name\n",
    "        self.age=age\n",
    "emp=Employee(\"Ali\",21)\n",
    "print(emp)"
   ]
  },
  {
   "cell_type": "code",
   "execution_count": 35,
   "id": "e6124f00",
   "metadata": {},
   "outputs": [
    {
     "name": "stdout",
     "output_type": "stream",
     "text": [
      "My name is Ali and  age is 21\n"
     ]
    }
   ],
   "source": [
    "class Employee:\n",
    "    def __init__(self,name,age):\n",
    "        self.name=name\n",
    "        self.age=age\n",
    "        \n",
    "    def __str__(self):\n",
    "        return f\"My name is {self.name} and  age is {self.age}\"\n",
    "emp=Employee(\"Ali\",21)\n",
    "print(emp)"
   ]
  },
  {
   "cell_type": "markdown",
   "id": "545f8e26",
   "metadata": {},
   "source": [
    "<h3>Class variables and class methods</h3>"
   ]
  },
  {
   "cell_type": "markdown",
   "id": "385c5167",
   "metadata": {},
   "source": [
    "<h3>@classmethod decorators</h3>\n",
    "<p>In Python, the @classmethod decorator is used to declare a method in the class as a class method that can be called using ClassName.MethodName(). The class method can also be called using an object of the class.</p>\n",
    "<ol>\n",
    "<li>The first parameter must be cls, which can be used to access class attributes.</li>\n",
    " <li>The class method can only access the class attributes but not the instance attributes.</li>\n",
    "   <li>The class method can be called using ClassName.MethodName() and also using object.</li>\n",
    "</ol>"
   ]
  },
  {
   "cell_type": "code",
   "execution_count": 36,
   "id": "a0147699",
   "metadata": {},
   "outputs": [],
   "source": [
    "class Car:\n",
    "    base_price=100000 ##Class Variables\n",
    "    def __init__(self,windows,doors,power):\n",
    "        self.windows=windows\n",
    "        self.doors=doors\n",
    "        self.power=power\n",
    "    def what_base_price(self):\n",
    "        print(\"The base price is {}\".format(self.base_price))\n"
   ]
  },
  {
   "cell_type": "markdown",
   "id": "22d006a3",
   "metadata": {},
   "source": [
    "<p>we have this class .Now we want to update base price every year for that we will use class method decorator</p>"
   ]
  },
  {
   "cell_type": "code",
   "execution_count": 37,
   "id": "f6de56cd",
   "metadata": {},
   "outputs": [],
   "source": [
    "class Car:\n",
    "    base_price=100000 ##Class Variables\n",
    "    def __init__(self,windows,doors,power):\n",
    "        self.windows=windows\n",
    "        self.doors=doors\n",
    "        self.power=power\n",
    "    def what_base_price(self):\n",
    "        print(\"The base price is {}\".format(self.base_price))\n",
    "    \n",
    "    #instead of reference to instance this function will take reference to class\n",
    "    @classmethod\n",
    "    def updated_base_price(cls,inflation):\n",
    "        base_price=base_price+ (base_price*inflation)"
   ]
  },
  {
   "cell_type": "code",
   "execution_count": 39,
   "id": "96497f1d",
   "metadata": {},
   "outputs": [
    {
     "data": {
      "text/plain": [
       "100000"
      ]
     },
     "execution_count": 39,
     "metadata": {},
     "output_type": "execute_result"
    }
   ],
   "source": [
    "car1 = Car(1,2,3)\n",
    "car1.base_price"
   ]
  },
  {
   "cell_type": "code",
   "execution_count": 41,
   "id": "a1c032d7",
   "metadata": {},
   "outputs": [
    {
     "ename": "UnboundLocalError",
     "evalue": "local variable 'base_price' referenced before assignment",
     "output_type": "error",
     "traceback": [
      "\u001b[1;31m---------------------------------------------------------------------------\u001b[0m",
      "\u001b[1;31mUnboundLocalError\u001b[0m                         Traceback (most recent call last)",
      "\u001b[1;32m<ipython-input-41-f08a183571c2>\u001b[0m in \u001b[0;36m<module>\u001b[1;34m\u001b[0m\n\u001b[1;32m----> 1\u001b[1;33m \u001b[0mCar\u001b[0m\u001b[1;33m.\u001b[0m\u001b[0mupdated_base_price\u001b[0m\u001b[1;33m(\u001b[0m\u001b[1;36m0.10\u001b[0m\u001b[1;33m)\u001b[0m\u001b[1;33m\u001b[0m\u001b[1;33m\u001b[0m\u001b[0m\n\u001b[0m",
      "\u001b[1;32m<ipython-input-37-ebdb8159528f>\u001b[0m in \u001b[0;36mupdated_base_price\u001b[1;34m(cls, inflation)\u001b[0m\n\u001b[0;32m     11\u001b[0m     \u001b[1;33m@\u001b[0m\u001b[0mclassmethod\u001b[0m\u001b[1;33m\u001b[0m\u001b[1;33m\u001b[0m\u001b[0m\n\u001b[0;32m     12\u001b[0m     \u001b[1;32mdef\u001b[0m \u001b[0mupdated_base_price\u001b[0m\u001b[1;33m(\u001b[0m\u001b[0mcls\u001b[0m\u001b[1;33m,\u001b[0m\u001b[0minflation\u001b[0m\u001b[1;33m)\u001b[0m\u001b[1;33m:\u001b[0m\u001b[1;33m\u001b[0m\u001b[1;33m\u001b[0m\u001b[0m\n\u001b[1;32m---> 13\u001b[1;33m         \u001b[0mbase_price\u001b[0m\u001b[1;33m=\u001b[0m\u001b[0mbase_price\u001b[0m\u001b[1;33m+\u001b[0m \u001b[1;33m(\u001b[0m\u001b[0mbase_price\u001b[0m\u001b[1;33m*\u001b[0m\u001b[0minflation\u001b[0m\u001b[1;33m)\u001b[0m\u001b[1;33m\u001b[0m\u001b[1;33m\u001b[0m\u001b[0m\n\u001b[0m",
      "\u001b[1;31mUnboundLocalError\u001b[0m: local variable 'base_price' referenced before assignment"
     ]
    }
   ],
   "source": [
    "Car.updated_base_price(0.10)\n"
   ]
  },
  {
   "cell_type": "code",
   "execution_count": 42,
   "id": "925b8c92",
   "metadata": {},
   "outputs": [],
   "source": [
    "class Car:\n",
    "    base_price=100000 ##Class Variables\n",
    "    def __init__(self,windows,doors,power):\n",
    "        self.windows=windows\n",
    "        self.doors=doors\n",
    "        self.power=power\n",
    "    def what_base_price(self):\n",
    "        print(\"The base price is {}\".format(self.base_price))\n",
    "    \n",
    "    #instead of reference to instance this function will take reference to class\n",
    "    @classmethod\n",
    "    def updated_base_price(cls,inflation):\n",
    "        cls.base_price=cls.base_price+ (cls.base_price*inflation)"
   ]
  },
  {
   "cell_type": "code",
   "execution_count": 43,
   "id": "8b8311a2",
   "metadata": {},
   "outputs": [],
   "source": [
    "Car.updated_base_price(0.10)"
   ]
  },
  {
   "cell_type": "code",
   "execution_count": 44,
   "id": "2f7accad",
   "metadata": {},
   "outputs": [
    {
     "data": {
      "text/plain": [
       "110000.0"
      ]
     },
     "execution_count": 44,
     "metadata": {},
     "output_type": "execute_result"
    }
   ],
   "source": [
    "car2=Car(1,23,3)\n",
    "car2.base_price\t"
   ]
  },
  {
   "cell_type": "code",
   "execution_count": 45,
   "id": "113f07c3",
   "metadata": {},
   "outputs": [
    {
     "data": {
      "text/plain": [
       "110000.0"
      ]
     },
     "execution_count": 45,
     "metadata": {},
     "output_type": "execute_result"
    }
   ],
   "source": [
    "car3=Car(1,23,3)\n",
    "car3.base_price\t"
   ]
  },
  {
   "cell_type": "code",
   "execution_count": 46,
   "id": "9170b1ae",
   "metadata": {},
   "outputs": [
    {
     "data": {
      "text/plain": [
       "121000.0"
      ]
     },
     "execution_count": 46,
     "metadata": {},
     "output_type": "execute_result"
    }
   ],
   "source": [
    "Car.updated_base_price(0.10)\n",
    "car3=Car(1,23,3)\n",
    "car3.base_price\t"
   ]
  },
  {
   "cell_type": "markdown",
   "id": "e7e26f4a",
   "metadata": {},
   "source": [
    "<h3>@staticmethod</h3>\n",
    "<p>The @staticmethod is a built-in decorator that defines a static method in the class in Python. A static method doesn't receive any reference argument whether it is called by an instance of a class or by the class itself.</p>\n",
    "<ol>\n",
    "    <li>It cannot have cls or self parameter.</li>\n",
    "    <li>The static method cannot access the class attributes or the instance attributes</li>\n",
    "    <li>The static method can be called using ClassName.MethodName() and also using object.MethodName().</li>\n",
    "    <li>It is quite fast and it is initialized as soon as class in initialized</li>\n",
    "    <li>It has only one copy unlike instances where we have separate copy of vaiables and method for each instace</li>\n",
    "</ol>"
   ]
  },
  {
   "cell_type": "code",
   "execution_count": 1,
   "id": "c8c1ca72",
   "metadata": {},
   "outputs": [],
   "source": [
    "class student:\n",
    "    name='unknown'\n",
    "    def __init__ (self):\n",
    "        self.age=age\n",
    "     \n",
    "    #Don't  take any reference to class or object\n",
    "    @staticmethod\n",
    "    def toString():\n",
    "        print(\"This is my student class \")\n",
    "    "
   ]
  },
  {
   "cell_type": "code",
   "execution_count": 2,
   "id": "04970f0d",
   "metadata": {},
   "outputs": [
    {
     "name": "stdout",
     "output_type": "stream",
     "text": [
      "This is my student class\n"
     ]
    }
   ],
   "source": [
    "student.toString()"
   ]
  },
  {
   "cell_type": "code",
   "execution_count": 5,
   "id": "c3374274",
   "metadata": {},
   "outputs": [],
   "source": [
    "class student:\n",
    "    name='unknown'\n",
    "    def __init__ (self):\n",
    "        self.age=age\n",
    "     \n",
    "    #Don't  take any reference to class or object\n",
    "    @staticmethod\n",
    "    def toString():\n",
    "        print(f\"This is my student class {self.age}\")\n",
    "    "
   ]
  },
  {
   "cell_type": "code",
   "execution_count": 6,
   "id": "5626dd1f",
   "metadata": {},
   "outputs": [
    {
     "ename": "NameError",
     "evalue": "name 'self' is not defined",
     "output_type": "error",
     "traceback": [
      "\u001b[1;31m---------------------------------------------------------------------------\u001b[0m",
      "\u001b[1;31mNameError\u001b[0m                                 Traceback (most recent call last)",
      "\u001b[1;32m<ipython-input-6-44e5d9809af6>\u001b[0m in \u001b[0;36m<module>\u001b[1;34m\u001b[0m\n\u001b[1;32m----> 1\u001b[1;33m \u001b[0mstudent\u001b[0m\u001b[1;33m.\u001b[0m\u001b[0mtoString\u001b[0m\u001b[1;33m(\u001b[0m\u001b[1;33m)\u001b[0m\u001b[1;33m\u001b[0m\u001b[1;33m\u001b[0m\u001b[0m\n\u001b[0m",
      "\u001b[1;32m<ipython-input-5-5dc202a7f94f>\u001b[0m in \u001b[0;36mtoString\u001b[1;34m()\u001b[0m\n\u001b[0;32m      7\u001b[0m     \u001b[1;33m@\u001b[0m\u001b[0mstaticmethod\u001b[0m\u001b[1;33m\u001b[0m\u001b[1;33m\u001b[0m\u001b[0m\n\u001b[0;32m      8\u001b[0m     \u001b[1;32mdef\u001b[0m \u001b[0mtoString\u001b[0m\u001b[1;33m(\u001b[0m\u001b[1;33m)\u001b[0m\u001b[1;33m:\u001b[0m\u001b[1;33m\u001b[0m\u001b[1;33m\u001b[0m\u001b[0m\n\u001b[1;32m----> 9\u001b[1;33m         \u001b[0mprint\u001b[0m\u001b[1;33m(\u001b[0m\u001b[1;34mf\"This is my student class {self.age}\"\u001b[0m\u001b[1;33m)\u001b[0m\u001b[1;33m\u001b[0m\u001b[1;33m\u001b[0m\u001b[0m\n\u001b[0m\u001b[0;32m     10\u001b[0m \u001b[1;33m\u001b[0m\u001b[0m\n",
      "\u001b[1;31mNameError\u001b[0m: name 'self' is not defined"
     ]
    }
   ],
   "source": [
    "#It can't access attributes of object\n",
    "student.toString()"
   ]
  },
  {
   "cell_type": "markdown",
   "id": "65929e84",
   "metadata": {},
   "source": [
    "<h3>Multiple inheritance</h3>\n",
    "<p>Inheritance is the mechanism to achieve the re-usability of code as one class(child class) can derive the properties of another class(parent class). It also provides transitivity ie. if class C inherits from P then all the sub-classes of C would also inherit from P.</p>\n",
    "<p>When a class is derived from more than one base class it is called multiple Inheritance. The derived class inherits all the features of the base case</p>"
   ]
  },
  {
   "cell_type": "markdown",
   "id": "08a6104c",
   "metadata": {},
   "source": [
    "<img src=\"https://media.geeksforgeeks.org/wp-content/uploads/20191222084630/multipleinh.png\" height=\"200px\">"
   ]
  },
  {
   "cell_type": "code",
   "execution_count": 9,
   "id": "c40f6fd0",
   "metadata": {},
   "outputs": [],
   "source": [
    "class base1:\n",
    "    def show1(self):\n",
    "        print(\"This is base1 class\")\n",
    "        \n",
    "class base2:\n",
    "    def show2(self):\n",
    "        print(\"This is base 2 class\")\n",
    "        \n",
    "class derived(base1,base2):\n",
    "    def show(self):\n",
    "        self.show1()\n",
    "        self.show2()\n",
    "        print(\"In derived class\")\n",
    "        "
   ]
  },
  {
   "cell_type": "code",
   "execution_count": 10,
   "id": "e5c4de0d",
   "metadata": {},
   "outputs": [
    {
     "name": "stdout",
     "output_type": "stream",
     "text": [
      "This is base1 class\n",
      "This is base 2 class\n",
      "In derived class\n"
     ]
    }
   ],
   "source": [
    "der  = derived()\n",
    "der.show()"
   ]
  },
  {
   "cell_type": "markdown",
   "id": "753a831f",
   "metadata": {},
   "source": [
    "<h3>Diamond Problem</h3>\n",
    "<img src=\"https://media.geeksforgeeks.org/wp-content/uploads/20191222084637/Diamond1.png\">\n",
    "<p>It refers to an ambiguity that arises when two classes Class2 and Class3 inherit from a superclass Class1 and class Class4 inherits from both Class2 and Class3. If there is a method “m” which is an overridden method in one of Class2 and Class3 or both then the ambiguity arises which of the method “m” Class4 should inherit.</p>"
   ]
  },
  {
   "cell_type": "code",
   "execution_count": 17,
   "id": "ebf44ec6",
   "metadata": {},
   "outputs": [],
   "source": [
    "class class1:\n",
    "    def m(self):\n",
    "        print(\"Class 1\")\n",
    "        \n",
    "class class2(class1):\n",
    "    def m(self):\n",
    "        print(\"Class 2\")\n",
    "\n",
    "class class3(class1):\n",
    "    def m(self):\n",
    "        print(\"Class 3\")\n",
    "\n",
    "class class4(class2,class3):\n",
    "    pass"
   ]
  },
  {
   "cell_type": "code",
   "execution_count": 18,
   "id": "944a1ce0",
   "metadata": {},
   "outputs": [
    {
     "name": "stdout",
     "output_type": "stream",
     "text": [
      "Class 2\n"
     ]
    }
   ],
   "source": [
    "obj=class4()\n",
    "obj.m()"
   ]
  },
  {
   "cell_type": "markdown",
   "id": "e11ec622",
   "metadata": {},
   "source": [
    "<p>Note: When you call obj.m() (m on the instance of Class4) the output is In Class2. If Class4 is declared as Class4(Class3, Class2) then the output of obj.m() will be In Class3.</p>"
   ]
  },
  {
   "cell_type": "markdown",
   "id": "61cb1c09",
   "metadata": {},
   "source": [
    "<h4>Method overridding</h4>\n",
    "<p>Method overriding, in object-oriented programming, is a language feature that allows a subclass or child class to provide a specific implementation of a method that is already provided by one of its superclasses or parent classes.</p>"
   ]
  },
  {
   "cell_type": "code",
   "execution_count": 19,
   "id": "2973067d",
   "metadata": {},
   "outputs": [
    {
     "name": "stdout",
     "output_type": "stream",
     "text": [
      "In Class3\n"
     ]
    }
   ],
   "source": [
    "# Python Program to depict multiple inheritance\n",
    "# when method is overridden in one of the classes\n",
    " \n",
    "class Class1:\n",
    "    def m(self):\n",
    "        print(\"In Class1\")\n",
    "       \n",
    "class Class2(Class1):\n",
    "    pass\n",
    " \n",
    "class Class3(Class1):\n",
    "    def m(self):\n",
    "        print(\"In Class3\")   \n",
    "      \n",
    "class Class4(Class2, Class3):\n",
    "    pass      \n",
    " \n",
    "obj = Class4()\n",
    "obj.m()"
   ]
  },
  {
   "cell_type": "code",
   "execution_count": 3,
   "id": "b9ed160a",
   "metadata": {},
   "outputs": [
    {
     "name": "stdout",
     "output_type": "stream",
     "text": [
      "Class 4\n",
      "Class 2\n",
      "Class 3\n",
      "Class 1\n"
     ]
    }
   ],
   "source": [
    "# Python Program to depict multiple inheritance\n",
    "# when every class defines the same method\n",
    "\n",
    "class class1:\n",
    "    def m(self):\n",
    "        print(\"Class 1\")\n",
    "        \n",
    "class class2(class1):\n",
    "    def m(self):\n",
    "        print(\"Class 2\")\n",
    "\n",
    "class class3(class1):\n",
    "    def m(self):\n",
    "        print(\"Class 3\")\n",
    "\n",
    "class class4(class2,class3):\n",
    "     def m(self):\n",
    "        print(\"Class 4\")\n",
    "\n",
    "obj = class4()\n",
    "obj.m()\n",
    "\n",
    "class2.m(obj)\n",
    "class3.m(obj)\n",
    "class1.m(obj)\n"
   ]
  },
  {
   "cell_type": "code",
   "execution_count": 5,
   "id": "2e886e45",
   "metadata": {},
   "outputs": [
    {
     "name": "stdout",
     "output_type": "stream",
     "text": [
      "Class 4\n",
      "Class 1\n",
      "Class 2\n",
      "Class 3\n"
     ]
    }
   ],
   "source": [
    "# Python Program to depict multiple inheritance\n",
    "# when we try to call the method m for Class1,\n",
    "# Class2, Class3 from the method m of Class4\n",
    "  \n",
    "class class1:\n",
    "    def m(self):\n",
    "        print(\"Class 1\")\n",
    "        \n",
    "class class2(class1):\n",
    "    def m(self):\n",
    "        print(\"Class 2\")\n",
    "\n",
    "class class3(class1):\n",
    "    def m(self):\n",
    "        print(\"Class 3\")\n",
    "\n",
    "class class4(class2,class3):\n",
    "     def m(self):\n",
    "        print(\"Class 4\")\n",
    "        class1.m(self)\n",
    "        class2.m(self)\n",
    "        class3.m(self)\n",
    "        \n",
    "obj=class4()\n",
    "obj.m()"
   ]
  },
  {
   "cell_type": "code",
   "execution_count": 6,
   "id": "fb917c5b",
   "metadata": {},
   "outputs": [
    {
     "name": "stdout",
     "output_type": "stream",
     "text": [
      "Class 4\n",
      "Class 1\n",
      "Class 2\n",
      "Class 1\n",
      "Class 3\n",
      "Class 1\n"
     ]
    }
   ],
   "source": [
    "# Python Program to depict multiple inheritance\n",
    "# when we try to call m of Class1 from both m of\n",
    "# Class2 and m of Class3\n",
    "\n",
    "class class1:\n",
    "    def m(self):\n",
    "        print(\"Class 1\")\n",
    "        \n",
    "class class2(class1):\n",
    "    def m(self):\n",
    "        print(\"Class 2\")\n",
    "        class1.m(self)\n",
    "\n",
    "class class3(class1):\n",
    "    def m(self):\n",
    "        print(\"Class 3\")\n",
    "        class1.m(self)\n",
    "\n",
    "class class4(class2,class3):\n",
    "     def m(self):\n",
    "        print(\"Class 4\")\n",
    "        class1.m(self)\n",
    "        class2.m(self)\n",
    "        class3.m(self)\n",
    "        \n",
    "        \n",
    "obj=class4()\n",
    "obj.m()"
   ]
  },
  {
   "cell_type": "markdown",
   "id": "166f9ff9",
   "metadata": {},
   "source": [
    "<p>The output of the above code has one problem associated with it, the method m of Class1 is called twice. Python provides a solution to the above problem with the help of the super() function. Let’s see how it works.</p>"
   ]
  },
  {
   "cell_type": "code",
   "execution_count": 8,
   "id": "c7f92e60",
   "metadata": {},
   "outputs": [
    {
     "name": "stdout",
     "output_type": "stream",
     "text": [
      "Class 4\n",
      "Class 2\n",
      "Class 3\n",
      "Class 1\n"
     ]
    }
   ],
   "source": [
    "class class1:\n",
    "    def m(self):\n",
    "        print(\"Class 1\")\n",
    "        \n",
    "class class2(class1):\n",
    "    def m(self):\n",
    "        print(\"Class 2\")\n",
    "        super().m()\n",
    "\n",
    "class class3(class1):\n",
    "    def m(self):\n",
    "        print(\"Class 3\")\n",
    "        super().m()\n",
    "\n",
    "class class4(class2,class3):\n",
    "     def m(self):\n",
    "        print(\"Class 4\")\n",
    "        super().m()\n",
    "        \n",
    "\n",
    "           \n",
    "obj=class4()\n",
    "obj.m()"
   ]
  },
  {
   "cell_type": "markdown",
   "id": "e28970bb",
   "metadata": {},
   "source": [
    "<b>Super() is generally used with the __init__ function when the instances are initialized. The super function comes to a conclusion, on which method to call with the help of the method resolution order (MRO).</b>"
   ]
  },
  {
   "cell_type": "markdown",
   "id": "5eda18ff",
   "metadata": {},
   "source": [
    "<h1>MRO</h1>\n",
    "<ol>\n",
    "<li>In Python, every class whether built-in or user-defined is derived from the object class and all the objects are instances of the class object. Hence, the object class is the base class for all the other classes.</li>\n",
    "<li>In the case of multiple inheritance, a given attribute is first searched in the current class if it’s not found then it’s searched in the parent classes. The parent classes are searched in a depth-first, left-right fashion and each class is searched once</li></ol>\n"
   ]
  },
  {
   "cell_type": "code",
   "execution_count": 10,
   "id": "1dde7951",
   "metadata": {},
   "outputs": [
    {
     "name": "stdout",
     "output_type": "stream",
     "text": [
      "[<class '__main__.Class4'>, <class '__main__.Class2'>, <class '__main__.Class3'>, <class '__main__.Class1'>, <class 'object'>]\n",
      "(<class '__main__.class4'>, <class '__main__.class2'>, <class '__main__.class3'>, <class '__main__.class1'>, <class 'object'>)\n"
     ]
    }
   ],
   "source": [
    "class Class1:\n",
    "    def m(self):\n",
    "        print(\"In Class1\")\n",
    " \n",
    "class Class2(Class1):\n",
    "    def m(self):\n",
    "        print(\"In Class2\")\n",
    "        super().m()\n",
    " \n",
    "class Class3(Class1):\n",
    "    def m(self):\n",
    "        print(\"In Class3\")\n",
    "        super().m()\n",
    " \n",
    "class Class4(Class2, Class3):\n",
    "    def m(self):\n",
    "        print(\"In Class4\")  \n",
    "        super().m()\n",
    "      \n",
    "print(Class4.mro())         #This will print list\n",
    "print(class4.__mro__)    #This will print tuple"
   ]
  },
  {
   "cell_type": "code",
   "execution_count": null,
   "id": "7c3b9a76",
   "metadata": {},
   "outputs": [],
   "source": []
  }
 ],
 "metadata": {
  "kernelspec": {
   "display_name": "Python 3",
   "language": "python",
   "name": "python3"
  },
  "language_info": {
   "codemirror_mode": {
    "name": "ipython",
    "version": 3
   },
   "file_extension": ".py",
   "mimetype": "text/x-python",
   "name": "python",
   "nbconvert_exporter": "python",
   "pygments_lexer": "ipython3",
   "version": "3.9.6"
  }
 },
 "nbformat": 4,
 "nbformat_minor": 5
}
