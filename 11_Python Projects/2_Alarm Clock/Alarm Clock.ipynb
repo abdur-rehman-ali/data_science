{
 "cells": [
  {
   "cell_type": "markdown",
   "id": "d5281e6f",
   "metadata": {},
   "source": [
    "<h1>Alarm Clock</h1>"
   ]
  },
  {
   "cell_type": "code",
   "execution_count": 2,
   "id": "541b48e4",
   "metadata": {},
   "outputs": [],
   "source": [
    "import datetime\n",
    "import playsound"
   ]
  },
  {
   "cell_type": "code",
   "execution_count": 3,
   "id": "b5841abc",
   "metadata": {},
   "outputs": [
    {
     "name": "stdout",
     "output_type": "stream",
     "text": [
      "Setting up alarm\n",
      "alarm ringing\n"
     ]
    },
    {
     "name": "stderr",
     "output_type": "stream",
     "text": [
      "\n",
      "    Error 263 for command:\n",
      "        close sound.mp3\n",
      "    The specified device is not open or is not recognized by MCI.\n",
      "Failed to close the file: sound.mp3\n"
     ]
    }
   ],
   "source": [
    "alarm_time = \"04 11 50 PM\"\n",
    "hour_set = alarm_time[0:2]\n",
    "minute_set = alarm_time[3:5]\n",
    "second_set = alarm_time[6:8]\n",
    "period_set = alarm_time[9:11].upper()\n",
    "print(\"Setting up alarm\")\n",
    "\n",
    "while True:\n",
    "    date = datetime.datetime.now()\n",
    "    hour_now=date.strftime(\"%I\")\n",
    "    minute_now = date.strftime(\"%M\")\n",
    "    second_now = date.strftime(\"%S\")\n",
    "    period_now = date.strftime(\"%p\")\n",
    "    if hour_set ==  hour_now:\n",
    "        if minute_set == minute_now:\n",
    "            if second_set==second_now:\n",
    "                if period_set==period_now:\n",
    "                    print(\"alarm ringing\")\n",
    "                    playsound.playsound('sound.mp3')\n",
    "                    break\n"
   ]
  },
  {
   "cell_type": "code",
   "execution_count": null,
   "id": "7dd4a00f",
   "metadata": {},
   "outputs": [],
   "source": []
  }
 ],
 "metadata": {
  "kernelspec": {
   "display_name": "Python 3",
   "language": "python",
   "name": "python3"
  },
  "language_info": {
   "codemirror_mode": {
    "name": "ipython",
    "version": 3
   },
   "file_extension": ".py",
   "mimetype": "text/x-python",
   "name": "python",
   "nbconvert_exporter": "python",
   "pygments_lexer": "ipython3",
   "version": "3.8.8"
  }
 },
 "nbformat": 4,
 "nbformat_minor": 5
}
