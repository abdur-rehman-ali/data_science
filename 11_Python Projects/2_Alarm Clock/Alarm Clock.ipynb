{
 "cells": [
  {
   "cell_type": "markdown",
   "id": "cba42f26",
   "metadata": {},
   "source": [
    "<h1>Alarm Clock</h1>"
   ]
  },
  {
   "cell_type": "code",
   "execution_count": 2,
   "id": "46428df4",
   "metadata": {},
   "outputs": [],
   "source": [
    "import datetime\n",
    "import playsound"
   ]
  },
  {
   "cell_type": "code",
   "execution_count": null,
   "id": "d95cdaf0",
   "metadata": {},
   "outputs": [
    {
     "name": "stdout",
     "output_type": "stream",
     "text": [
      "Setting up alarm\n",
      "alarm ringing\n"
     ]
    }
   ],
   "source": [
    "\n",
    "alarm_time = \"04 11 50 PM\"\n",
    "hour_set = alarm_time[0:2]\n",
    "minute_set = alarm_time[3:5]\n",
    "second_set = alarm_time[6:8]\n",
    "period_set = alarm_time[9:11].upper()\n",
    "print(\"Setting up alarm\")\n",
    "\n",
    "while True:\n",
    "    date = datetime.datetime.now()\n",
    "    hour_now=date.strftime(\"%I\")\n",
    "    minute_now = date.strftime(\"%M\")\n",
    "    second_now = date.strftime(\"%S\")\n",
    "    period_now = date.strftime(\"%p\")\n",
    "    if hour_set ==  hour_now:\n",
    "        if minute_set == minute_now:\n",
    "            if second_set==second_now:\n",
    "                if period_set==period_now:\n",
    "                    print(\"alarm ringing\")\n",
    "                    playsound.playsound('sound.mp3')\n",
    "                    break"
   ]
  },
  {
   "cell_type": "code",
   "execution_count": null,
   "id": "f51556f5",
   "metadata": {},
   "outputs": [],
   "source": []
  }
 ],
 "metadata": {
  "kernelspec": {
   "display_name": "Python 3",
   "language": "python",
   "name": "python3"
  },
  "language_info": {
   "codemirror_mode": {
    "name": "ipython",
    "version": 3
   },
   "file_extension": ".py",
   "mimetype": "text/x-python",
   "name": "python",
   "nbconvert_exporter": "python",
   "pygments_lexer": "ipython3",
   "version": "3.8.8"
  }
 },
 "nbformat": 4,
 "nbformat_minor": 5
}
