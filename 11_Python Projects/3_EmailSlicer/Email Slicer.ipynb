{
 "cells": [
  {
   "cell_type": "markdown",
   "id": "8ff1131d",
   "metadata": {},
   "source": [
    "<h1>Email Slicer</h1>"
   ]
  },
  {
   "cell_type": "markdown",
   "id": "835b37cd",
   "metadata": {},
   "source": [
    "<p>An Email slicer is a very useful program for separating the username and domain name of an email address . In this project i have implemented this slicing</p>"
   ]
  },
  {
   "cell_type": "code",
   "execution_count": 1,
   "id": "953471fb",
   "metadata": {},
   "outputs": [
    {
     "data": {
      "text/plain": [
       "['support', 'thecleverprogrammer.com']"
      ]
     },
     "execution_count": 1,
     "metadata": {},
     "output_type": "execute_result"
    }
   ],
   "source": [
    "str_email = \"support@thecleverprogrammer.com\"\n",
    "str_email.split(\"@\")"
   ]
  },
  {
   "cell_type": "code",
   "execution_count": 8,
   "id": "238415de",
   "metadata": {},
   "outputs": [
    {
     "name": "stdout",
     "output_type": "stream",
     "text": [
      "User name is support and domain name is google.com\n"
     ]
    }
   ],
   "source": [
    "def slicer(str_email):\n",
    "    str_email_split=str_email.split(\"@\")\n",
    "    username = str_email_split[0]\n",
    "    domain = str_email_split[1]\n",
    "    return f\"User name is {username} and domain name is {domain}\"\n",
    "\n",
    "print(slicer(\"support@google.com\"))"
   ]
  },
  {
   "cell_type": "code",
   "execution_count": 11,
   "id": "9bc09fbb",
   "metadata": {},
   "outputs": [
    {
     "name": "stdout",
     "output_type": "stream",
     "text": [
      "User name is support and domain name is google.com\n"
     ]
    }
   ],
   "source": [
    "def slicer1(str_email):\n",
    "    username = str_email[:str_email.index(\"@\")]\n",
    "    domain = str_email[str_email.index(\"@\")+1:]\n",
    "    return f\"User name is {username} and domain name is {domain}\"\n",
    "\n",
    "print(slicer1(\"support@google.com\"))"
   ]
  },
  {
   "cell_type": "code",
   "execution_count": null,
   "id": "17374b00",
   "metadata": {},
   "outputs": [],
   "source": []
  }
 ],
 "metadata": {
  "kernelspec": {
   "display_name": "Python 3",
   "language": "python",
   "name": "python3"
  },
  "language_info": {
   "codemirror_mode": {
    "name": "ipython",
    "version": 3
   },
   "file_extension": ".py",
   "mimetype": "text/x-python",
   "name": "python",
   "nbconvert_exporter": "python",
   "pygments_lexer": "ipython3",
   "version": "3.8.8"
  }
 },
 "nbformat": 4,
 "nbformat_minor": 5
}
