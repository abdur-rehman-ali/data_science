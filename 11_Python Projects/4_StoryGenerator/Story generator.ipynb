{
 "cells": [
  {
   "cell_type": "markdown",
   "id": "ff4efef1",
   "metadata": {},
   "source": [
    "<h1>Story generator using random letters</h1>"
   ]
  },
  {
   "cell_type": "code",
   "execution_count": null,
   "id": "ba57b542",
   "metadata": {},
   "outputs": [],
   "source": [
    "<>\n",
    "<p>The choice() method returns a randomly selected element from the specified sequence</p>"
   ]
  },
  {
   "cell_type": "code",
   "execution_count": 10,
   "id": "76acd373",
   "metadata": {},
   "outputs": [],
   "source": [
    "import random\n",
    "when = ['A few years ago', 'Yesterday', 'Last night', 'A long time ago','On 20th Jan']\n",
    "who = ['a rabbit', 'an elephant', 'a mouse', 'a turtle','a cat']\n",
    "name = ['Ali', 'Miriam','daniel', 'Hoouk', 'Starwalker']\n",
    "residence = ['Pakistan','India', 'Germany', 'Venice', 'England']\n",
    "went = ['cinema', 'university','seminar', 'school', 'laundry']\n",
    "happened = ['made a lot of friends','Eats a burger', 'found a secret key', 'solved a mistery', 'wrote a book']\n"
   ]
  },
  {
   "cell_type": "code",
   "execution_count": 11,
   "id": "875703b4",
   "metadata": {},
   "outputs": [
    {
     "name": "stdout",
     "output_type": "stream",
     "text": [
      "A long time ago, an elephant that lived in India, went to the school and wrote a book\n"
     ]
    }
   ],
   "source": [
    "print(random.choice(when) + ', ' + random.choice(who) + ' that lived in ' + random.choice(residence) + ', went to the ' + random.choice(went) + ' and ' + random.choice(happened))"
   ]
  },
  {
   "cell_type": "code",
   "execution_count": null,
   "id": "4b56f425",
   "metadata": {},
   "outputs": [],
   "source": []
  }
 ],
 "metadata": {
  "kernelspec": {
   "display_name": "Python 3",
   "language": "python",
   "name": "python3"
  },
  "language_info": {
   "codemirror_mode": {
    "name": "ipython",
    "version": 3
   },
   "file_extension": ".py",
   "mimetype": "text/x-python",
   "name": "python",
   "nbconvert_exporter": "python",
   "pygments_lexer": "ipython3",
   "version": "3.8.8"
  }
 },
 "nbformat": 4,
 "nbformat_minor": 5
}
