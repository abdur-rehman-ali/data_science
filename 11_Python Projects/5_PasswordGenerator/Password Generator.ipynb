{
 "cells": [
  {
   "cell_type": "markdown",
   "id": "ef3fbab7",
   "metadata": {},
   "source": [
    "<h1>Password Generator</h1>"
   ]
  },
  {
   "cell_type": "markdown",
   "id": "3185558a",
   "metadata": {},
   "source": [
    "<p><b>Description</b> I created a program that takes the length of the password and generates a random password of the same length.</p>"
   ]
  },
  {
   "cell_type": "code",
   "execution_count": 1,
   "id": "c7234f4f",
   "metadata": {},
   "outputs": [],
   "source": [
    "import random"
   ]
  },
  {
   "cell_type": "markdown",
   "id": "ee79d91e",
   "metadata": {},
   "source": [
    "<p>The <b>sample() </b> method returns a list with a randomly selection of a specified number of items from a sequnce.</p>\n",
    "<p><b>Syntax:</b>random.sample(sequence, k)</p>"
   ]
  },
  {
   "cell_type": "code",
   "execution_count": 3,
   "id": "48c96d33",
   "metadata": {},
   "outputs": [
    {
     "name": "stdout",
     "output_type": "stream",
     "text": [
      "['5', 'U', 'O', '?', '0', '&', 'z', 'e']\n"
     ]
    }
   ],
   "source": [
    "sampleLetters = \"abcdefghijklmnopqrstuvwxyz01234567890ABCDEFGHIJKLMNOPQRSTUVWXYZ!@#$%^&*()?\"\n",
    "print(random.sample(sampleLetters,8))\n",
    "    "
   ]
  },
  {
   "cell_type": "markdown",
   "id": "9e48c982",
   "metadata": {},
   "source": [
    "<p>The <b>join() </b> method takes all items in an iterable and joins them into one string</p>\n",
    "<p><b>Syntax: </b>string.join(iterable)</p>"
   ]
  },
  {
   "cell_type": "code",
   "execution_count": 11,
   "id": "85b9b839",
   "metadata": {},
   "outputs": [
    {
     "name": "stdout",
     "output_type": "stream",
     "text": [
      "John#Peter#Vicky\n"
     ]
    }
   ],
   "source": [
    "myTuple = (\"John\", \"Peter\", \"Vicky\")\n",
    "\n",
    "x = \"#\".join(myTuple)\n",
    "\n",
    "print(x)"
   ]
  },
  {
   "cell_type": "code",
   "execution_count": 10,
   "id": "658f16a3",
   "metadata": {},
   "outputs": [
    {
     "name": "stdout",
     "output_type": "stream",
     "text": [
      "nameTESTcountry\n"
     ]
    }
   ],
   "source": [
    "myDict = {\"name\": \"John\", \"country\": \"Norway\"}\n",
    "mySeparator = \"TEST\"\n",
    "\n",
    "x = mySeparator.join(myDict)\n",
    "\n",
    "print(x)"
   ]
  },
  {
   "cell_type": "code",
   "execution_count": 13,
   "id": "23e8ce80",
   "metadata": {},
   "outputs": [
    {
     "name": "stdout",
     "output_type": "stream",
     "text": [
      "riman\n"
     ]
    }
   ],
   "source": [
    "list1 = ['r','i','m','a', 'n']  \n",
    "print(\"\".join(list1)) "
   ]
  },
  {
   "cell_type": "markdown",
   "id": "5df0d536",
   "metadata": {},
   "source": [
    "<h2>Password Generator</h2>"
   ]
  },
  {
   "cell_type": "code",
   "execution_count": 16,
   "id": "9dcce0f3",
   "metadata": {},
   "outputs": [
    {
     "name": "stdout",
     "output_type": "stream",
     "text": [
      "3gmDA!&\n"
     ]
    }
   ],
   "source": [
    "def passwordGenerator(length):\n",
    "    \"\"\" This function take length as argument and generate password of that length\"\"\"\n",
    "    \n",
    "    sampleLetters = \"abcdefghijklmnopqrstuvwxyz01234567890ABCDEFGHIJKLMNOPQRSTUVWXYZ!@#$%^&*()?\"\n",
    "    password = \"\".join(random.sample(sampleLetters,length))\n",
    "    return password\n",
    "\n",
    "print(passwordGenerator(7))"
   ]
  },
  {
   "cell_type": "code",
   "execution_count": 17,
   "id": "052d55be",
   "metadata": {},
   "outputs": [
    {
     "name": "stdout",
     "output_type": "stream",
     "text": [
      "FxA3(I1o%US4&$RuV\n"
     ]
    }
   ],
   "source": [
    "print(passwordGenerator(17))"
   ]
  },
  {
   "cell_type": "code",
   "execution_count": null,
   "id": "42c66fb6",
   "metadata": {},
   "outputs": [],
   "source": []
  }
 ],
 "metadata": {
  "kernelspec": {
   "display_name": "Python 3",
   "language": "python",
   "name": "python3"
  },
  "language_info": {
   "codemirror_mode": {
    "name": "ipython",
    "version": 3
   },
   "file_extension": ".py",
   "mimetype": "text/x-python",
   "name": "python",
   "nbconvert_exporter": "python",
   "pygments_lexer": "ipython3",
   "version": "3.8.8"
  }
 },
 "nbformat": 4,
 "nbformat_minor": 5
}
