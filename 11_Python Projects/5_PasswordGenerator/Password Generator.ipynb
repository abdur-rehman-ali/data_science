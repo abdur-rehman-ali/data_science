{
 "cells": [
  {
   "cell_type": "markdown",
   "id": "920cfbf0",
   "metadata": {},
   "source": [
    "<h1>Password Generator</h1>"
   ]
  },
  {
   "cell_type": "markdown",
   "id": "3cb89b43",
   "metadata": {},
   "source": [
    "<p><b>Description</b> I created a program that takes the length of the password and generates a random password of the same length.</p>"
   ]
  },
  {
   "cell_type": "code",
   "execution_count": 1,
   "id": "df595ab2",
   "metadata": {},
   "outputs": [],
   "source": [
    "import random"
   ]
  },
  {
   "cell_type": "markdown",
   "id": "5c9b873f",
   "metadata": {},
   "source": [
    "<p>The <b>sample() </b> method returns a list with a randomly selection of a specified number of items from a sequnce.</p>\n",
    "<p><b>Syntax:</b>random.sample(sequence, k)</p>"
   ]
  },
  {
   "cell_type": "code",
   "execution_count": 3,
   "id": "5b5fe4ae",
   "metadata": {},
   "outputs": [
    {
     "name": "stdout",
     "output_type": "stream",
     "text": [
      "['5', 'U', 'O', '?', '0', '&', 'z', 'e']\n"
     ]
    }
   ],
   "source": [
    "sampleLetters = \"abcdefghijklmnopqrstuvwxyz01234567890ABCDEFGHIJKLMNOPQRSTUVWXYZ!@#$%^&*()?\"\n",
    "print(random.sample(sampleLetters,8))\n",
    "    "
   ]
  },
  {
   "cell_type": "markdown",
   "id": "683b03d8",
   "metadata": {},
   "source": [
    "<p>The <b>join() </b> method takes all items in an iterable and joins them into one string</p>\n",
    "<p><b>Syntax: </b>string.join(iterable)</p>"
   ]
  },
  {
   "cell_type": "code",
   "execution_count": 11,
   "id": "5f916630",
   "metadata": {},
   "outputs": [
    {
     "name": "stdout",
     "output_type": "stream",
     "text": [
      "John#Peter#Vicky\n"
     ]
    }
   ],
   "source": [
    "myTuple = (\"John\", \"Peter\", \"Vicky\")\n",
    "\n",
    "x = \"#\".join(myTuple)\n",
    "\n",
    "print(x)"
   ]
  },
  {
   "cell_type": "code",
   "execution_count": 10,
   "id": "18901d5e",
   "metadata": {},
   "outputs": [
    {
     "name": "stdout",
     "output_type": "stream",
     "text": [
      "nameTESTcountry\n"
     ]
    }
   ],
   "source": [
    "myDict = {\"name\": \"John\", \"country\": \"Norway\"}\n",
    "mySeparator = \"TEST\"\n",
    "\n",
    "x = mySeparator.join(myDict)\n",
    "\n",
    "print(x)"
   ]
  },
  {
   "cell_type": "code",
   "execution_count": 13,
   "id": "33170c93",
   "metadata": {},
   "outputs": [
    {
     "name": "stdout",
     "output_type": "stream",
     "text": [
      "riman\n"
     ]
    }
   ],
   "source": [
    "list1 = ['r','i','m','a', 'n']  \n",
    "print(\"\".join(list1)) "
   ]
  },
  {
   "cell_type": "code",
   "execution_count": null,
   "id": "1bdb0e06",
   "metadata": {},
   "outputs": [],
   "source": [
    "<h2>Password Generaa</h2>"
   ]
  },
  {
   "cell_type": "code",
   "execution_count": 14,
   "id": "a3401e3c",
   "metadata": {},
   "outputs": [
    {
     "name": "stdout",
     "output_type": "stream",
     "text": [
      "f@h9JP6\n"
     ]
    }
   ],
   "source": [
    "def passwordGenerator(length):\n",
    "    sampleLetters = \"abcdefghijklmnopqrstuvwxyz01234567890ABCDEFGHIJKLMNOPQRSTUVWXYZ!@#$%^&*()?\"\n",
    "    password = \"\".join(random.sample(sampleLetters,length))\n",
    "    return password\n",
    "\n",
    "print(passwordGenerator(7))"
   ]
  },
  {
   "cell_type": "code",
   "execution_count": null,
   "id": "f1705cf1",
   "metadata": {},
   "outputs": [],
   "source": []
  }
 ],
 "metadata": {
  "kernelspec": {
   "display_name": "Python 3",
   "language": "python",
   "name": "python3"
  },
  "language_info": {
   "codemirror_mode": {
    "name": "ipython",
    "version": 3
   },
   "file_extension": ".py",
   "mimetype": "text/x-python",
   "name": "python",
   "nbconvert_exporter": "python",
   "pygments_lexer": "ipython3",
   "version": "3.8.8"
  }
 },
 "nbformat": 4,
 "nbformat_minor": 5
}
