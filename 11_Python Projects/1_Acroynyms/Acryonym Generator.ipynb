{
 "cells": [
  {
   "cell_type": "code",
   "execution_count": null,
   "id": "c6342007",
   "metadata": {},
   "outputs": [],
   "source": [
    "<h1>Acryp </h1>"
   ]
  },
  {
   "cell_type": "code",
   "execution_count": 13,
   "id": "db055203",
   "metadata": {},
   "outputs": [],
   "source": [
    "def acroynym_generator(input_str):\n",
    "    acr=\"\"\n",
    "    for i in input_str.split(\" \"):\n",
    "        acr+=i[0].upper()\n",
    "    return acr\n",
    "        "
   ]
  },
  {
   "cell_type": "code",
   "execution_count": 14,
   "id": "8af3db4b",
   "metadata": {},
   "outputs": [
    {
     "name": "stdout",
     "output_type": "stream",
     "text": [
      "NLP\n"
     ]
    }
   ],
   "source": [
    "print(acroynym_generator(\"natural language processing\"))"
   ]
  },
  {
   "cell_type": "code",
   "execution_count": 15,
   "id": "2c9416f6",
   "metadata": {},
   "outputs": [
    {
     "name": "stdout",
     "output_type": "stream",
     "text": [
      "AI\n"
     ]
    }
   ],
   "source": [
    "print(acroynym_generator(\"Artificial Intelligence\"))"
   ]
  },
  {
   "cell_type": "code",
   "execution_count": null,
   "id": "91727657",
   "metadata": {},
   "outputs": [],
   "source": []
  }
 ],
 "metadata": {
  "kernelspec": {
   "display_name": "Python 3",
   "language": "python",
   "name": "python3"
  },
  "language_info": {
   "codemirror_mode": {
    "name": "ipython",
    "version": 3
   },
   "file_extension": ".py",
   "mimetype": "text/x-python",
   "name": "python",
   "nbconvert_exporter": "python",
   "pygments_lexer": "ipython3",
   "version": "3.8.8"
  }
 },
 "nbformat": 4,
 "nbformat_minor": 5
}
